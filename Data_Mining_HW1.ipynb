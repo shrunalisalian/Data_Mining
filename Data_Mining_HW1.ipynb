{
 "cells": [
  {
   "cell_type": "markdown",
   "metadata": {},
   "source": [
    "Welcome! Let's get started with your very first assignment in Data Mining! Woohoo!!!\n",
    "So, Surbhi is doing the first Problem, let's start with the second problem and complete the assignement"
   ]
  },
  {
   "cell_type": "code",
   "execution_count": 2,
   "metadata": {},
   "outputs": [
    {
     "data": {
      "text/plain": "   survived  pclass     sex   age  sibsp  parch     fare embarked  class  \\\n0         0       3    male  22.0      1      0   7.2500        S  Third   \n1         1       1  female  38.0      1      0  71.2833        C  First   \n2         1       3  female  26.0      0      0   7.9250        S  Third   \n3         1       1  female  35.0      1      0  53.1000        S  First   \n4         0       3    male  35.0      0      0   8.0500        S  Third   \n\n     who  adult_male deck  embark_town alive  alone  \n0    man        True  NaN  Southampton    no  False  \n1  woman       False    C    Cherbourg   yes  False  \n2  woman       False  NaN  Southampton   yes   True  \n3  woman       False    C  Southampton   yes  False  \n4    man        True  NaN  Southampton    no   True  ",
      "text/html": "<div>\n<style scoped>\n    .dataframe tbody tr th:only-of-type {\n        vertical-align: middle;\n    }\n\n    .dataframe tbody tr th {\n        vertical-align: top;\n    }\n\n    .dataframe thead th {\n        text-align: right;\n    }\n</style>\n<table border=\"1\" class=\"dataframe\">\n  <thead>\n    <tr style=\"text-align: right;\">\n      <th></th>\n      <th>survived</th>\n      <th>pclass</th>\n      <th>sex</th>\n      <th>age</th>\n      <th>sibsp</th>\n      <th>parch</th>\n      <th>fare</th>\n      <th>embarked</th>\n      <th>class</th>\n      <th>who</th>\n      <th>adult_male</th>\n      <th>deck</th>\n      <th>embark_town</th>\n      <th>alive</th>\n      <th>alone</th>\n    </tr>\n  </thead>\n  <tbody>\n    <tr>\n      <th>0</th>\n      <td>0</td>\n      <td>3</td>\n      <td>male</td>\n      <td>22.0</td>\n      <td>1</td>\n      <td>0</td>\n      <td>7.2500</td>\n      <td>S</td>\n      <td>Third</td>\n      <td>man</td>\n      <td>True</td>\n      <td>NaN</td>\n      <td>Southampton</td>\n      <td>no</td>\n      <td>False</td>\n    </tr>\n    <tr>\n      <th>1</th>\n      <td>1</td>\n      <td>1</td>\n      <td>female</td>\n      <td>38.0</td>\n      <td>1</td>\n      <td>0</td>\n      <td>71.2833</td>\n      <td>C</td>\n      <td>First</td>\n      <td>woman</td>\n      <td>False</td>\n      <td>C</td>\n      <td>Cherbourg</td>\n      <td>yes</td>\n      <td>False</td>\n    </tr>\n    <tr>\n      <th>2</th>\n      <td>1</td>\n      <td>3</td>\n      <td>female</td>\n      <td>26.0</td>\n      <td>0</td>\n      <td>0</td>\n      <td>7.9250</td>\n      <td>S</td>\n      <td>Third</td>\n      <td>woman</td>\n      <td>False</td>\n      <td>NaN</td>\n      <td>Southampton</td>\n      <td>yes</td>\n      <td>True</td>\n    </tr>\n    <tr>\n      <th>3</th>\n      <td>1</td>\n      <td>1</td>\n      <td>female</td>\n      <td>35.0</td>\n      <td>1</td>\n      <td>0</td>\n      <td>53.1000</td>\n      <td>S</td>\n      <td>First</td>\n      <td>woman</td>\n      <td>False</td>\n      <td>C</td>\n      <td>Southampton</td>\n      <td>yes</td>\n      <td>False</td>\n    </tr>\n    <tr>\n      <th>4</th>\n      <td>0</td>\n      <td>3</td>\n      <td>male</td>\n      <td>35.0</td>\n      <td>0</td>\n      <td>0</td>\n      <td>8.0500</td>\n      <td>S</td>\n      <td>Third</td>\n      <td>man</td>\n      <td>True</td>\n      <td>NaN</td>\n      <td>Southampton</td>\n      <td>no</td>\n      <td>True</td>\n    </tr>\n  </tbody>\n</table>\n</div>"
     },
     "execution_count": 2,
     "metadata": {},
     "output_type": "execute_result"
    }
   ],
   "source": [
    "import pandas\n",
    "import seaborn\n",
    "import seaborn as sns\n",
    "titanic =sns.load_dataset('titanic') # name of the dataframe is titanic\n",
    "titanic.head()"
   ]
  },
  {
   "cell_type": "code",
   "execution_count": 3,
   "metadata": {},
   "outputs": [
    {
     "data": {
      "text/plain": "['anagrams',\n 'anscombe',\n 'attention',\n 'brain_networks',\n 'car_crashes',\n 'diamonds',\n 'dots',\n 'dowjones',\n 'exercise',\n 'flights',\n 'fmri',\n 'geyser',\n 'glue',\n 'healthexp',\n 'iris',\n 'mpg',\n 'penguins',\n 'planets',\n 'seaice',\n 'taxis',\n 'tips',\n 'titanic']"
     },
     "execution_count": 3,
     "metadata": {},
     "output_type": "execute_result"
    }
   ],
   "source": [
    "sns.get_dataset_names()# df_titanic =  pandas.read_csv('titanic')"
   ]
  },
  {
   "cell_type": "code",
   "execution_count": 4,
   "metadata": {},
   "outputs": [],
   "source": [
    "import pandas as pd\n",
    "import numpy as np\n",
    "import matplotlib.pyplot as plt"
   ]
  },
  {
   "cell_type": "code",
   "execution_count": 5,
   "metadata": {},
   "outputs": [
    {
     "data": {
      "text/plain": "     survived  pclass    sex    age  sibsp  parch   fare  embarked  class  \\\n0       False   False  False  False  False  False  False     False  False   \n1       False   False  False  False  False  False  False     False  False   \n2       False   False  False  False  False  False  False     False  False   \n3       False   False  False  False  False  False  False     False  False   \n4       False   False  False  False  False  False  False     False  False   \n..        ...     ...    ...    ...    ...    ...    ...       ...    ...   \n886     False   False  False  False  False  False  False     False  False   \n887     False   False  False  False  False  False  False     False  False   \n888     False   False  False   True  False  False  False     False  False   \n889     False   False  False  False  False  False  False     False  False   \n890     False   False  False  False  False  False  False     False  False   \n\n       who  adult_male   deck  embark_town  alive  alone  \n0    False       False   True        False  False  False  \n1    False       False  False        False  False  False  \n2    False       False   True        False  False  False  \n3    False       False  False        False  False  False  \n4    False       False   True        False  False  False  \n..     ...         ...    ...          ...    ...    ...  \n886  False       False   True        False  False  False  \n887  False       False  False        False  False  False  \n888  False       False   True        False  False  False  \n889  False       False  False        False  False  False  \n890  False       False   True        False  False  False  \n\n[891 rows x 15 columns]",
      "text/html": "<div>\n<style scoped>\n    .dataframe tbody tr th:only-of-type {\n        vertical-align: middle;\n    }\n\n    .dataframe tbody tr th {\n        vertical-align: top;\n    }\n\n    .dataframe thead th {\n        text-align: right;\n    }\n</style>\n<table border=\"1\" class=\"dataframe\">\n  <thead>\n    <tr style=\"text-align: right;\">\n      <th></th>\n      <th>survived</th>\n      <th>pclass</th>\n      <th>sex</th>\n      <th>age</th>\n      <th>sibsp</th>\n      <th>parch</th>\n      <th>fare</th>\n      <th>embarked</th>\n      <th>class</th>\n      <th>who</th>\n      <th>adult_male</th>\n      <th>deck</th>\n      <th>embark_town</th>\n      <th>alive</th>\n      <th>alone</th>\n    </tr>\n  </thead>\n  <tbody>\n    <tr>\n      <th>0</th>\n      <td>False</td>\n      <td>False</td>\n      <td>False</td>\n      <td>False</td>\n      <td>False</td>\n      <td>False</td>\n      <td>False</td>\n      <td>False</td>\n      <td>False</td>\n      <td>False</td>\n      <td>False</td>\n      <td>True</td>\n      <td>False</td>\n      <td>False</td>\n      <td>False</td>\n    </tr>\n    <tr>\n      <th>1</th>\n      <td>False</td>\n      <td>False</td>\n      <td>False</td>\n      <td>False</td>\n      <td>False</td>\n      <td>False</td>\n      <td>False</td>\n      <td>False</td>\n      <td>False</td>\n      <td>False</td>\n      <td>False</td>\n      <td>False</td>\n      <td>False</td>\n      <td>False</td>\n      <td>False</td>\n    </tr>\n    <tr>\n      <th>2</th>\n      <td>False</td>\n      <td>False</td>\n      <td>False</td>\n      <td>False</td>\n      <td>False</td>\n      <td>False</td>\n      <td>False</td>\n      <td>False</td>\n      <td>False</td>\n      <td>False</td>\n      <td>False</td>\n      <td>True</td>\n      <td>False</td>\n      <td>False</td>\n      <td>False</td>\n    </tr>\n    <tr>\n      <th>3</th>\n      <td>False</td>\n      <td>False</td>\n      <td>False</td>\n      <td>False</td>\n      <td>False</td>\n      <td>False</td>\n      <td>False</td>\n      <td>False</td>\n      <td>False</td>\n      <td>False</td>\n      <td>False</td>\n      <td>False</td>\n      <td>False</td>\n      <td>False</td>\n      <td>False</td>\n    </tr>\n    <tr>\n      <th>4</th>\n      <td>False</td>\n      <td>False</td>\n      <td>False</td>\n      <td>False</td>\n      <td>False</td>\n      <td>False</td>\n      <td>False</td>\n      <td>False</td>\n      <td>False</td>\n      <td>False</td>\n      <td>False</td>\n      <td>True</td>\n      <td>False</td>\n      <td>False</td>\n      <td>False</td>\n    </tr>\n    <tr>\n      <th>...</th>\n      <td>...</td>\n      <td>...</td>\n      <td>...</td>\n      <td>...</td>\n      <td>...</td>\n      <td>...</td>\n      <td>...</td>\n      <td>...</td>\n      <td>...</td>\n      <td>...</td>\n      <td>...</td>\n      <td>...</td>\n      <td>...</td>\n      <td>...</td>\n      <td>...</td>\n    </tr>\n    <tr>\n      <th>886</th>\n      <td>False</td>\n      <td>False</td>\n      <td>False</td>\n      <td>False</td>\n      <td>False</td>\n      <td>False</td>\n      <td>False</td>\n      <td>False</td>\n      <td>False</td>\n      <td>False</td>\n      <td>False</td>\n      <td>True</td>\n      <td>False</td>\n      <td>False</td>\n      <td>False</td>\n    </tr>\n    <tr>\n      <th>887</th>\n      <td>False</td>\n      <td>False</td>\n      <td>False</td>\n      <td>False</td>\n      <td>False</td>\n      <td>False</td>\n      <td>False</td>\n      <td>False</td>\n      <td>False</td>\n      <td>False</td>\n      <td>False</td>\n      <td>False</td>\n      <td>False</td>\n      <td>False</td>\n      <td>False</td>\n    </tr>\n    <tr>\n      <th>888</th>\n      <td>False</td>\n      <td>False</td>\n      <td>False</td>\n      <td>True</td>\n      <td>False</td>\n      <td>False</td>\n      <td>False</td>\n      <td>False</td>\n      <td>False</td>\n      <td>False</td>\n      <td>False</td>\n      <td>True</td>\n      <td>False</td>\n      <td>False</td>\n      <td>False</td>\n    </tr>\n    <tr>\n      <th>889</th>\n      <td>False</td>\n      <td>False</td>\n      <td>False</td>\n      <td>False</td>\n      <td>False</td>\n      <td>False</td>\n      <td>False</td>\n      <td>False</td>\n      <td>False</td>\n      <td>False</td>\n      <td>False</td>\n      <td>False</td>\n      <td>False</td>\n      <td>False</td>\n      <td>False</td>\n    </tr>\n    <tr>\n      <th>890</th>\n      <td>False</td>\n      <td>False</td>\n      <td>False</td>\n      <td>False</td>\n      <td>False</td>\n      <td>False</td>\n      <td>False</td>\n      <td>False</td>\n      <td>False</td>\n      <td>False</td>\n      <td>False</td>\n      <td>True</td>\n      <td>False</td>\n      <td>False</td>\n      <td>False</td>\n    </tr>\n  </tbody>\n</table>\n<p>891 rows × 15 columns</p>\n</div>"
     },
     "execution_count": 5,
     "metadata": {},
     "output_type": "execute_result"
    }
   ],
   "source": [
    "titanic.isna()"
   ]
  },
  {
   "cell_type": "code",
   "execution_count": 6,
   "metadata": {},
   "outputs": [
    {
     "name": "stdout",
     "output_type": "stream",
     "text": [
      "True\n"
     ]
    }
   ],
   "source": [
    "check = titanic.isnull().values.any()\n",
    "print(check)   # the dataframe contains missing values"
   ]
  },
  {
   "cell_type": "code",
   "execution_count": 7,
   "metadata": {},
   "outputs": [
    {
     "name": "stdout",
     "output_type": "stream",
     "text": [
      "False\n"
     ]
    }
   ],
   "source": [
    "check_survived = titanic['survived'].isnull().values.any()\n",
    "print(check_survived) # the survived column does not have any missing columns\n",
    "# hence for all the records present we know for sure whether a passenger made it or not"
   ]
  },
  {
   "cell_type": "code",
   "execution_count": 8,
   "metadata": {},
   "outputs": [
    {
     "name": "stdout",
     "output_type": "stream",
     "text": [
      "False\n"
     ]
    }
   ],
   "source": [
    "check_pclass = titanic['pclass'].isnull().values.any()\n",
    "print(check_pclass) # for all the passengers we know the class they traveller by"
   ]
  },
  {
   "cell_type": "code",
   "execution_count": 9,
   "metadata": {},
   "outputs": [
    {
     "name": "stdout",
     "output_type": "stream",
     "text": [
      "False\n"
     ]
    }
   ],
   "source": [
    "check_sex = titanic['sex'].isnull().values.any()\n",
    "print(check_sex) # for all the passengers onboard we know whether they were male of female"
   ]
  },
  {
   "cell_type": "code",
   "execution_count": 10,
   "metadata": {},
   "outputs": [
    {
     "name": "stdout",
     "output_type": "stream",
     "text": [
      "True\n"
     ]
    }
   ],
   "source": [
    "check_age = titanic['age'].isnull().values.any()\n",
    "print(check_age)    # okay... we have arrived at our first set of missing values data"
   ]
  },
  {
   "cell_type": "code",
   "execution_count": 11,
   "metadata": {},
   "outputs": [
    {
     "name": "stdout",
     "output_type": "stream",
     "text": [
      "False\n"
     ]
    }
   ],
   "source": [
    "check_sibsp = titanic['sibsp'].isnull().values.any()\n",
    "print(check_sibsp)  # no missing values"
   ]
  },
  {
   "cell_type": "code",
   "execution_count": 12,
   "metadata": {},
   "outputs": [
    {
     "name": "stdout",
     "output_type": "stream",
     "text": [
      "False\n"
     ]
    }
   ],
   "source": [
    "check_parch = titanic['parch'].isnull().values.any()\n",
    "print(check_parch)  # no missing values"
   ]
  },
  {
   "cell_type": "code",
   "execution_count": 13,
   "metadata": {},
   "outputs": [
    {
     "name": "stdout",
     "output_type": "stream",
     "text": [
      "False\n"
     ]
    }
   ],
   "source": [
    "check_fare = titanic['fare'].isnull().values.any()\n",
    "print(check_fare)   # no missing values"
   ]
  },
  {
   "cell_type": "code",
   "execution_count": 14,
   "metadata": {},
   "outputs": [
    {
     "name": "stdout",
     "output_type": "stream",
     "text": [
      "True\n"
     ]
    }
   ],
   "source": [
    "check_embarked = titanic['embarked'].isnull().values.any()\n",
    "print(check_embarked)   # second column after age that contains missing data"
   ]
  },
  {
   "cell_type": "code",
   "execution_count": 15,
   "metadata": {},
   "outputs": [
    {
     "name": "stdout",
     "output_type": "stream",
     "text": [
      "False\n"
     ]
    }
   ],
   "source": [
    "check_class = titanic['class'].isnull().values.any()\n",
    "print(check_class)  # no missing values"
   ]
  },
  {
   "cell_type": "code",
   "execution_count": 16,
   "metadata": {},
   "outputs": [
    {
     "name": "stdout",
     "output_type": "stream",
     "text": [
      "False\n"
     ]
    }
   ],
   "source": [
    "check_who = titanic['who'].isnull().values.any()\n",
    "print(check_who)    # no missing data"
   ]
  },
  {
   "cell_type": "code",
   "execution_count": 17,
   "metadata": {},
   "outputs": [
    {
     "data": {
      "text/plain": "0        man\n1      woman\n2      woman\n3      woman\n4        man\n       ...  \n886      man\n887    woman\n888    woman\n889      man\n890      man\nName: who, Length: 891, dtype: object"
     },
     "execution_count": 17,
     "metadata": {},
     "output_type": "execute_result"
    }
   ],
   "source": [
    "titanic.who #gives info whether the person was an adult woman/man or child"
   ]
  },
  {
   "cell_type": "code",
   "execution_count": 18,
   "metadata": {},
   "outputs": [
    {
     "name": "stdout",
     "output_type": "stream",
     "text": [
      "False\n"
     ]
    }
   ],
   "source": [
    "check_adult_male = titanic['adult_male'].isnull().values.any()\n",
    "print(check_adult_male) # amazing no missing data"
   ]
  },
  {
   "cell_type": "code",
   "execution_count": 19,
   "metadata": {},
   "outputs": [
    {
     "name": "stdout",
     "output_type": "stream",
     "text": [
      "True\n"
     ]
    }
   ],
   "source": [
    "check_deck = titanic['deck'].isnull().values.any()\n",
    "print(check_deck) # okay then... 3rd column containing missing data"
   ]
  },
  {
   "cell_type": "code",
   "execution_count": 20,
   "metadata": {},
   "outputs": [
    {
     "data": {
      "text/plain": "0      NaN\n1        C\n2      NaN\n3        C\n4      NaN\n      ... \n886    NaN\n887      B\n888    NaN\n889      C\n890    NaN\nName: deck, Length: 891, dtype: category\nCategories (7, object): ['A', 'B', 'C', 'D', 'E', 'F', 'G']"
     },
     "execution_count": 20,
     "metadata": {},
     "output_type": "execute_result"
    }
   ],
   "source": [
    "titanic.deck"
   ]
  },
  {
   "cell_type": "code",
   "execution_count": 21,
   "metadata": {},
   "outputs": [
    {
     "name": "stdout",
     "output_type": "stream",
     "text": [
      "True\n"
     ]
    }
   ],
   "source": [
    "check_embark_town = titanic['embark_town'].isnull().values.any()\n",
    "print(check_embark_town) # missing data"
   ]
  },
  {
   "cell_type": "code",
   "execution_count": 22,
   "metadata": {},
   "outputs": [
    {
     "data": {
      "text/plain": "0      Southampton\n1        Cherbourg\n2      Southampton\n3      Southampton\n4      Southampton\n          ...     \n886    Southampton\n887    Southampton\n888    Southampton\n889      Cherbourg\n890     Queenstown\nName: embark_town, Length: 891, dtype: object"
     },
     "execution_count": 22,
     "metadata": {},
     "output_type": "execute_result"
    }
   ],
   "source": [
    "titanic.embark_town"
   ]
  },
  {
   "cell_type": "code",
   "execution_count": 23,
   "metadata": {},
   "outputs": [
    {
     "name": "stdout",
     "output_type": "stream",
     "text": [
      "['Southampton' 'Cherbourg' 'Queenstown' nan]\n"
     ]
    }
   ],
   "source": [
    "print(titanic['embark_town'].unique())"
   ]
  },
  {
   "cell_type": "code",
   "execution_count": 24,
   "metadata": {},
   "outputs": [
    {
     "name": "stdout",
     "output_type": "stream",
     "text": [
      "False\n"
     ]
    }
   ],
   "source": [
    "print(titanic['alive'].isnull().values.any()) # no missing data- we for sure know whether a passenger is alive or not"
   ]
  },
  {
   "cell_type": "code",
   "execution_count": 25,
   "metadata": {},
   "outputs": [
    {
     "name": "stdout",
     "output_type": "stream",
     "text": [
      "False\n"
     ]
    }
   ],
   "source": [
    "print(titanic['alone'].isnull().values.any()) # no missing data"
   ]
  },
  {
   "cell_type": "code",
   "execution_count": 26,
   "metadata": {},
   "outputs": [
    {
     "name": "stdout",
     "output_type": "stream",
     "text": [
      "Index(['survived', 'pclass', 'sex', 'age', 'sibsp', 'parch', 'fare',\n",
      "       'embarked', 'class', 'who', 'adult_male', 'deck', 'embark_town',\n",
      "       'alive', 'alone'],\n",
      "      dtype='object')\n"
     ]
    }
   ],
   "source": [
    "print(titanic.columns)"
   ]
  },
  {
   "cell_type": "markdown",
   "metadata": {},
   "source": [
    "**TODO1:** What is the mean age of female and male survivors respectively?\n",
    "Hint: Apart from the aforementioned function groupby, creating a pivot table is also a way to go."
   ]
  },
  {
   "cell_type": "code",
   "execution_count": 27,
   "metadata": {},
   "outputs": [
    {
     "name": "stdout",
     "output_type": "stream",
     "text": [
      "177\n",
      "891\n",
      "19.865319865319865\n"
     ]
    }
   ],
   "source": [
    "print(titanic['age'].isnull().sum()) # Damn! Boy..age has 177 missing values what should we do???\n",
    "# percentage of missing data\n",
    "print(len(titanic.age))\n",
    "age_missing = ((titanic['age'].isnull().sum())/len(titanic.age))*100\n",
    "print(age_missing) # how much data is missing data - 19%!?"
   ]
  },
  {
   "cell_type": "code",
   "execution_count": 28,
   "metadata": {},
   "outputs": [
    {
     "data": {
      "text/plain": "0      22.0\n1      38.0\n2      26.0\n3      35.0\n4      35.0\n       ... \n886    27.0\n887    19.0\n888     NaN\n889    26.0\n890    32.0\nName: age, Length: 891, dtype: float64"
     },
     "execution_count": 28,
     "metadata": {},
     "output_type": "execute_result"
    }
   ],
   "source": [
    "titanic.age"
   ]
  },
  {
   "cell_type": "markdown",
   "metadata": {},
   "source": [
    "let's remove the missing data because 1) we cannot estimate the age 2) there is a hell lot of missing data. To do that, first create a subset - DO NOT DROP THE MISSING VALUES FROM YOUR MAIN DATA FRAME.\n",
    "We have to find the mean age of male and female survivors, hence we will also need that data. Columns needed will be - passenger_id, survived (we only want people who survived), sex, age, (also keep who column)"
   ]
  },
  {
   "cell_type": "code",
   "execution_count": 29,
   "metadata": {},
   "outputs": [
    {
     "data": {
      "text/plain": "     survived  pclass     sex   age  sibsp  parch     fare embarked   class  \\\n0           0       3    male  22.0      1      0   7.2500        S   Third   \n1           1       1  female  38.0      1      0  71.2833        C   First   \n2           1       3  female  26.0      0      0   7.9250        S   Third   \n3           1       1  female  35.0      1      0  53.1000        S   First   \n4           0       3    male  35.0      0      0   8.0500        S   Third   \n..        ...     ...     ...   ...    ...    ...      ...      ...     ...   \n886         0       2    male  27.0      0      0  13.0000        S  Second   \n887         1       1  female  19.0      0      0  30.0000        S   First   \n888         0       3  female   NaN      1      2  23.4500        S   Third   \n889         1       1    male  26.0      0      0  30.0000        C   First   \n890         0       3    male  32.0      0      0   7.7500        Q   Third   \n\n       who  adult_male deck  embark_town alive  alone  \n0      man        True  NaN  Southampton    no  False  \n1    woman       False    C    Cherbourg   yes  False  \n2    woman       False  NaN  Southampton   yes   True  \n3    woman       False    C  Southampton   yes  False  \n4      man        True  NaN  Southampton    no   True  \n..     ...         ...  ...          ...   ...    ...  \n886    man        True  NaN  Southampton    no   True  \n887  woman       False    B  Southampton   yes   True  \n888  woman       False  NaN  Southampton    no  False  \n889    man        True    C    Cherbourg   yes   True  \n890    man        True  NaN   Queenstown    no   True  \n\n[891 rows x 15 columns]",
      "text/html": "<div>\n<style scoped>\n    .dataframe tbody tr th:only-of-type {\n        vertical-align: middle;\n    }\n\n    .dataframe tbody tr th {\n        vertical-align: top;\n    }\n\n    .dataframe thead th {\n        text-align: right;\n    }\n</style>\n<table border=\"1\" class=\"dataframe\">\n  <thead>\n    <tr style=\"text-align: right;\">\n      <th></th>\n      <th>survived</th>\n      <th>pclass</th>\n      <th>sex</th>\n      <th>age</th>\n      <th>sibsp</th>\n      <th>parch</th>\n      <th>fare</th>\n      <th>embarked</th>\n      <th>class</th>\n      <th>who</th>\n      <th>adult_male</th>\n      <th>deck</th>\n      <th>embark_town</th>\n      <th>alive</th>\n      <th>alone</th>\n    </tr>\n  </thead>\n  <tbody>\n    <tr>\n      <th>0</th>\n      <td>0</td>\n      <td>3</td>\n      <td>male</td>\n      <td>22.0</td>\n      <td>1</td>\n      <td>0</td>\n      <td>7.2500</td>\n      <td>S</td>\n      <td>Third</td>\n      <td>man</td>\n      <td>True</td>\n      <td>NaN</td>\n      <td>Southampton</td>\n      <td>no</td>\n      <td>False</td>\n    </tr>\n    <tr>\n      <th>1</th>\n      <td>1</td>\n      <td>1</td>\n      <td>female</td>\n      <td>38.0</td>\n      <td>1</td>\n      <td>0</td>\n      <td>71.2833</td>\n      <td>C</td>\n      <td>First</td>\n      <td>woman</td>\n      <td>False</td>\n      <td>C</td>\n      <td>Cherbourg</td>\n      <td>yes</td>\n      <td>False</td>\n    </tr>\n    <tr>\n      <th>2</th>\n      <td>1</td>\n      <td>3</td>\n      <td>female</td>\n      <td>26.0</td>\n      <td>0</td>\n      <td>0</td>\n      <td>7.9250</td>\n      <td>S</td>\n      <td>Third</td>\n      <td>woman</td>\n      <td>False</td>\n      <td>NaN</td>\n      <td>Southampton</td>\n      <td>yes</td>\n      <td>True</td>\n    </tr>\n    <tr>\n      <th>3</th>\n      <td>1</td>\n      <td>1</td>\n      <td>female</td>\n      <td>35.0</td>\n      <td>1</td>\n      <td>0</td>\n      <td>53.1000</td>\n      <td>S</td>\n      <td>First</td>\n      <td>woman</td>\n      <td>False</td>\n      <td>C</td>\n      <td>Southampton</td>\n      <td>yes</td>\n      <td>False</td>\n    </tr>\n    <tr>\n      <th>4</th>\n      <td>0</td>\n      <td>3</td>\n      <td>male</td>\n      <td>35.0</td>\n      <td>0</td>\n      <td>0</td>\n      <td>8.0500</td>\n      <td>S</td>\n      <td>Third</td>\n      <td>man</td>\n      <td>True</td>\n      <td>NaN</td>\n      <td>Southampton</td>\n      <td>no</td>\n      <td>True</td>\n    </tr>\n    <tr>\n      <th>...</th>\n      <td>...</td>\n      <td>...</td>\n      <td>...</td>\n      <td>...</td>\n      <td>...</td>\n      <td>...</td>\n      <td>...</td>\n      <td>...</td>\n      <td>...</td>\n      <td>...</td>\n      <td>...</td>\n      <td>...</td>\n      <td>...</td>\n      <td>...</td>\n      <td>...</td>\n    </tr>\n    <tr>\n      <th>886</th>\n      <td>0</td>\n      <td>2</td>\n      <td>male</td>\n      <td>27.0</td>\n      <td>0</td>\n      <td>0</td>\n      <td>13.0000</td>\n      <td>S</td>\n      <td>Second</td>\n      <td>man</td>\n      <td>True</td>\n      <td>NaN</td>\n      <td>Southampton</td>\n      <td>no</td>\n      <td>True</td>\n    </tr>\n    <tr>\n      <th>887</th>\n      <td>1</td>\n      <td>1</td>\n      <td>female</td>\n      <td>19.0</td>\n      <td>0</td>\n      <td>0</td>\n      <td>30.0000</td>\n      <td>S</td>\n      <td>First</td>\n      <td>woman</td>\n      <td>False</td>\n      <td>B</td>\n      <td>Southampton</td>\n      <td>yes</td>\n      <td>True</td>\n    </tr>\n    <tr>\n      <th>888</th>\n      <td>0</td>\n      <td>3</td>\n      <td>female</td>\n      <td>NaN</td>\n      <td>1</td>\n      <td>2</td>\n      <td>23.4500</td>\n      <td>S</td>\n      <td>Third</td>\n      <td>woman</td>\n      <td>False</td>\n      <td>NaN</td>\n      <td>Southampton</td>\n      <td>no</td>\n      <td>False</td>\n    </tr>\n    <tr>\n      <th>889</th>\n      <td>1</td>\n      <td>1</td>\n      <td>male</td>\n      <td>26.0</td>\n      <td>0</td>\n      <td>0</td>\n      <td>30.0000</td>\n      <td>C</td>\n      <td>First</td>\n      <td>man</td>\n      <td>True</td>\n      <td>C</td>\n      <td>Cherbourg</td>\n      <td>yes</td>\n      <td>True</td>\n    </tr>\n    <tr>\n      <th>890</th>\n      <td>0</td>\n      <td>3</td>\n      <td>male</td>\n      <td>32.0</td>\n      <td>0</td>\n      <td>0</td>\n      <td>7.7500</td>\n      <td>Q</td>\n      <td>Third</td>\n      <td>man</td>\n      <td>True</td>\n      <td>NaN</td>\n      <td>Queenstown</td>\n      <td>no</td>\n      <td>True</td>\n    </tr>\n  </tbody>\n</table>\n<p>891 rows × 15 columns</p>\n</div>"
     },
     "execution_count": 29,
     "metadata": {},
     "output_type": "execute_result"
    }
   ],
   "source": [
    "titanic"
   ]
  },
  {
   "cell_type": "code",
   "execution_count": 30,
   "metadata": {},
   "outputs": [
    {
     "data": {
      "text/plain": "     survived     sex   age    who\n0           0    male  22.0    man\n1           1  female  38.0  woman\n2           1  female  26.0  woman\n3           1  female  35.0  woman\n4           0    male  35.0    man\n..        ...     ...   ...    ...\n886         0    male  27.0    man\n887         1  female  19.0  woman\n888         0  female   NaN  woman\n889         1    male  26.0    man\n890         0    male  32.0    man\n\n[891 rows x 4 columns]",
      "text/html": "<div>\n<style scoped>\n    .dataframe tbody tr th:only-of-type {\n        vertical-align: middle;\n    }\n\n    .dataframe tbody tr th {\n        vertical-align: top;\n    }\n\n    .dataframe thead th {\n        text-align: right;\n    }\n</style>\n<table border=\"1\" class=\"dataframe\">\n  <thead>\n    <tr style=\"text-align: right;\">\n      <th></th>\n      <th>survived</th>\n      <th>sex</th>\n      <th>age</th>\n      <th>who</th>\n    </tr>\n  </thead>\n  <tbody>\n    <tr>\n      <th>0</th>\n      <td>0</td>\n      <td>male</td>\n      <td>22.0</td>\n      <td>man</td>\n    </tr>\n    <tr>\n      <th>1</th>\n      <td>1</td>\n      <td>female</td>\n      <td>38.0</td>\n      <td>woman</td>\n    </tr>\n    <tr>\n      <th>2</th>\n      <td>1</td>\n      <td>female</td>\n      <td>26.0</td>\n      <td>woman</td>\n    </tr>\n    <tr>\n      <th>3</th>\n      <td>1</td>\n      <td>female</td>\n      <td>35.0</td>\n      <td>woman</td>\n    </tr>\n    <tr>\n      <th>4</th>\n      <td>0</td>\n      <td>male</td>\n      <td>35.0</td>\n      <td>man</td>\n    </tr>\n    <tr>\n      <th>...</th>\n      <td>...</td>\n      <td>...</td>\n      <td>...</td>\n      <td>...</td>\n    </tr>\n    <tr>\n      <th>886</th>\n      <td>0</td>\n      <td>male</td>\n      <td>27.0</td>\n      <td>man</td>\n    </tr>\n    <tr>\n      <th>887</th>\n      <td>1</td>\n      <td>female</td>\n      <td>19.0</td>\n      <td>woman</td>\n    </tr>\n    <tr>\n      <th>888</th>\n      <td>0</td>\n      <td>female</td>\n      <td>NaN</td>\n      <td>woman</td>\n    </tr>\n    <tr>\n      <th>889</th>\n      <td>1</td>\n      <td>male</td>\n      <td>26.0</td>\n      <td>man</td>\n    </tr>\n    <tr>\n      <th>890</th>\n      <td>0</td>\n      <td>male</td>\n      <td>32.0</td>\n      <td>man</td>\n    </tr>\n  </tbody>\n</table>\n<p>891 rows × 4 columns</p>\n</div>"
     },
     "execution_count": 30,
     "metadata": {},
     "output_type": "execute_result"
    }
   ],
   "source": [
    "average_age = titanic[['survived','sex','age','who']]\n",
    "average_age"
   ]
  },
  {
   "cell_type": "markdown",
   "metadata": {},
   "source": [
    "We only want people who survived"
   ]
  },
  {
   "cell_type": "code",
   "execution_count": 31,
   "metadata": {},
   "outputs": [
    {
     "data": {
      "text/plain": "     survived     sex   age    who\n1           1  female  38.0  woman\n2           1  female  26.0  woman\n3           1  female  35.0  woman\n8           1  female  27.0  woman\n9           1  female  14.0  child\n..        ...     ...   ...    ...\n875         1  female  15.0  child\n879         1  female  56.0  woman\n880         1  female  25.0  woman\n887         1  female  19.0  woman\n889         1    male  26.0    man\n\n[342 rows x 4 columns]",
      "text/html": "<div>\n<style scoped>\n    .dataframe tbody tr th:only-of-type {\n        vertical-align: middle;\n    }\n\n    .dataframe tbody tr th {\n        vertical-align: top;\n    }\n\n    .dataframe thead th {\n        text-align: right;\n    }\n</style>\n<table border=\"1\" class=\"dataframe\">\n  <thead>\n    <tr style=\"text-align: right;\">\n      <th></th>\n      <th>survived</th>\n      <th>sex</th>\n      <th>age</th>\n      <th>who</th>\n    </tr>\n  </thead>\n  <tbody>\n    <tr>\n      <th>1</th>\n      <td>1</td>\n      <td>female</td>\n      <td>38.0</td>\n      <td>woman</td>\n    </tr>\n    <tr>\n      <th>2</th>\n      <td>1</td>\n      <td>female</td>\n      <td>26.0</td>\n      <td>woman</td>\n    </tr>\n    <tr>\n      <th>3</th>\n      <td>1</td>\n      <td>female</td>\n      <td>35.0</td>\n      <td>woman</td>\n    </tr>\n    <tr>\n      <th>8</th>\n      <td>1</td>\n      <td>female</td>\n      <td>27.0</td>\n      <td>woman</td>\n    </tr>\n    <tr>\n      <th>9</th>\n      <td>1</td>\n      <td>female</td>\n      <td>14.0</td>\n      <td>child</td>\n    </tr>\n    <tr>\n      <th>...</th>\n      <td>...</td>\n      <td>...</td>\n      <td>...</td>\n      <td>...</td>\n    </tr>\n    <tr>\n      <th>875</th>\n      <td>1</td>\n      <td>female</td>\n      <td>15.0</td>\n      <td>child</td>\n    </tr>\n    <tr>\n      <th>879</th>\n      <td>1</td>\n      <td>female</td>\n      <td>56.0</td>\n      <td>woman</td>\n    </tr>\n    <tr>\n      <th>880</th>\n      <td>1</td>\n      <td>female</td>\n      <td>25.0</td>\n      <td>woman</td>\n    </tr>\n    <tr>\n      <th>887</th>\n      <td>1</td>\n      <td>female</td>\n      <td>19.0</td>\n      <td>woman</td>\n    </tr>\n    <tr>\n      <th>889</th>\n      <td>1</td>\n      <td>male</td>\n      <td>26.0</td>\n      <td>man</td>\n    </tr>\n  </tbody>\n</table>\n<p>342 rows × 4 columns</p>\n</div>"
     },
     "execution_count": 31,
     "metadata": {},
     "output_type": "execute_result"
    }
   ],
   "source": [
    "average_age = average_age[average_age['survived'] == 1]\n",
    "average_age"
   ]
  },
  {
   "cell_type": "markdown",
   "metadata": {},
   "source": [
    "Drop all missing age values"
   ]
  },
  {
   "cell_type": "code",
   "execution_count": 32,
   "metadata": {},
   "outputs": [
    {
     "data": {
      "text/plain": "     survived     sex   age    who\n1           1  female  38.0  woman\n2           1  female  26.0  woman\n3           1  female  35.0  woman\n8           1  female  27.0  woman\n9           1  female  14.0  child\n..        ...     ...   ...    ...\n875         1  female  15.0  child\n879         1  female  56.0  woman\n880         1  female  25.0  woman\n887         1  female  19.0  woman\n889         1    male  26.0    man\n\n[290 rows x 4 columns]",
      "text/html": "<div>\n<style scoped>\n    .dataframe tbody tr th:only-of-type {\n        vertical-align: middle;\n    }\n\n    .dataframe tbody tr th {\n        vertical-align: top;\n    }\n\n    .dataframe thead th {\n        text-align: right;\n    }\n</style>\n<table border=\"1\" class=\"dataframe\">\n  <thead>\n    <tr style=\"text-align: right;\">\n      <th></th>\n      <th>survived</th>\n      <th>sex</th>\n      <th>age</th>\n      <th>who</th>\n    </tr>\n  </thead>\n  <tbody>\n    <tr>\n      <th>1</th>\n      <td>1</td>\n      <td>female</td>\n      <td>38.0</td>\n      <td>woman</td>\n    </tr>\n    <tr>\n      <th>2</th>\n      <td>1</td>\n      <td>female</td>\n      <td>26.0</td>\n      <td>woman</td>\n    </tr>\n    <tr>\n      <th>3</th>\n      <td>1</td>\n      <td>female</td>\n      <td>35.0</td>\n      <td>woman</td>\n    </tr>\n    <tr>\n      <th>8</th>\n      <td>1</td>\n      <td>female</td>\n      <td>27.0</td>\n      <td>woman</td>\n    </tr>\n    <tr>\n      <th>9</th>\n      <td>1</td>\n      <td>female</td>\n      <td>14.0</td>\n      <td>child</td>\n    </tr>\n    <tr>\n      <th>...</th>\n      <td>...</td>\n      <td>...</td>\n      <td>...</td>\n      <td>...</td>\n    </tr>\n    <tr>\n      <th>875</th>\n      <td>1</td>\n      <td>female</td>\n      <td>15.0</td>\n      <td>child</td>\n    </tr>\n    <tr>\n      <th>879</th>\n      <td>1</td>\n      <td>female</td>\n      <td>56.0</td>\n      <td>woman</td>\n    </tr>\n    <tr>\n      <th>880</th>\n      <td>1</td>\n      <td>female</td>\n      <td>25.0</td>\n      <td>woman</td>\n    </tr>\n    <tr>\n      <th>887</th>\n      <td>1</td>\n      <td>female</td>\n      <td>19.0</td>\n      <td>woman</td>\n    </tr>\n    <tr>\n      <th>889</th>\n      <td>1</td>\n      <td>male</td>\n      <td>26.0</td>\n      <td>man</td>\n    </tr>\n  </tbody>\n</table>\n<p>290 rows × 4 columns</p>\n</div>"
     },
     "execution_count": 32,
     "metadata": {},
     "output_type": "execute_result"
    }
   ],
   "source": [
    "average_age_no_na = average_age[average_age['age'].notna()]\n",
    "average_age_no_na"
   ]
  },
  {
   "cell_type": "markdown",
   "metadata": {},
   "source": [
    "Calculate average age for both male and female - group by function"
   ]
  },
  {
   "cell_type": "code",
   "execution_count": 33,
   "metadata": {},
   "outputs": [
    {
     "name": "stdout",
     "output_type": "stream",
     "text": [
      "False\n"
     ]
    }
   ],
   "source": [
    "print(average_age_no_na['sex'].isnull().values.any())\n",
    "#print(titanic['alone'].isnull().values.any()) # no missing data"
   ]
  },
  {
   "cell_type": "code",
   "execution_count": 34,
   "metadata": {},
   "outputs": [],
   "source": [
    "# average_age_no_na.drop(['who'])"
   ]
  },
  {
   "cell_type": "code",
   "execution_count": 35,
   "metadata": {},
   "outputs": [
    {
     "name": "stderr",
     "output_type": "stream",
     "text": [
      "/var/folders/kd/vczjh0f55158sc6lflbyfd4w0000gn/T/ipykernel_29615/3810153364.py:1: FutureWarning: The default value of numeric_only in DataFrameGroupBy.mean is deprecated. In a future version, numeric_only will default to False. Either specify numeric_only or select only columns which should be valid for the function.\n",
      "  average_age_no_na.groupby(['sex']).mean()\n"
     ]
    },
    {
     "data": {
      "text/plain": "        survived        age\nsex                        \nfemale       1.0  28.847716\nmale         1.0  27.276022",
      "text/html": "<div>\n<style scoped>\n    .dataframe tbody tr th:only-of-type {\n        vertical-align: middle;\n    }\n\n    .dataframe tbody tr th {\n        vertical-align: top;\n    }\n\n    .dataframe thead th {\n        text-align: right;\n    }\n</style>\n<table border=\"1\" class=\"dataframe\">\n  <thead>\n    <tr style=\"text-align: right;\">\n      <th></th>\n      <th>survived</th>\n      <th>age</th>\n    </tr>\n    <tr>\n      <th>sex</th>\n      <th></th>\n      <th></th>\n    </tr>\n  </thead>\n  <tbody>\n    <tr>\n      <th>female</th>\n      <td>1.0</td>\n      <td>28.847716</td>\n    </tr>\n    <tr>\n      <th>male</th>\n      <td>1.0</td>\n      <td>27.276022</td>\n    </tr>\n  </tbody>\n</table>\n</div>"
     },
     "execution_count": 35,
     "metadata": {},
     "output_type": "execute_result"
    }
   ],
   "source": [
    "average_age_no_na.groupby(['sex']).mean()"
   ]
  },
  {
   "cell_type": "markdown",
   "metadata": {},
   "source": [
    "Therefore, out of those who survived, the average age of a female was 28 years and that of a male passenger was 27 years."
   ]
  },
  {
   "cell_type": "markdown",
   "metadata": {},
   "source": [
    "**TODO2:** Among all the survivors, what is the gender distribution? (You are expected to present the percentage of each gender in a pivot table.)\n",
    "Hint: The pivot table can help with complex aggregation."
   ]
  },
  {
   "cell_type": "markdown",
   "metadata": {},
   "source": [
    "So, if 10 people survived in total and 2 are male and 8 are female then gender distribution will be 20% male and 80% female\n",
    "Hence columns needed - survived, sex"
   ]
  },
  {
   "cell_type": "code",
   "execution_count": 36,
   "metadata": {},
   "outputs": [
    {
     "data": {
      "text/plain": "     survived  pclass     sex   age  sibsp  parch     fare embarked   class  \\\n0           0       3    male  22.0      1      0   7.2500        S   Third   \n1           1       1  female  38.0      1      0  71.2833        C   First   \n2           1       3  female  26.0      0      0   7.9250        S   Third   \n3           1       1  female  35.0      1      0  53.1000        S   First   \n4           0       3    male  35.0      0      0   8.0500        S   Third   \n..        ...     ...     ...   ...    ...    ...      ...      ...     ...   \n886         0       2    male  27.0      0      0  13.0000        S  Second   \n887         1       1  female  19.0      0      0  30.0000        S   First   \n888         0       3  female   NaN      1      2  23.4500        S   Third   \n889         1       1    male  26.0      0      0  30.0000        C   First   \n890         0       3    male  32.0      0      0   7.7500        Q   Third   \n\n       who  adult_male deck  embark_town alive  alone  \n0      man        True  NaN  Southampton    no  False  \n1    woman       False    C    Cherbourg   yes  False  \n2    woman       False  NaN  Southampton   yes   True  \n3    woman       False    C  Southampton   yes  False  \n4      man        True  NaN  Southampton    no   True  \n..     ...         ...  ...          ...   ...    ...  \n886    man        True  NaN  Southampton    no   True  \n887  woman       False    B  Southampton   yes   True  \n888  woman       False  NaN  Southampton    no  False  \n889    man        True    C    Cherbourg   yes   True  \n890    man        True  NaN   Queenstown    no   True  \n\n[891 rows x 15 columns]",
      "text/html": "<div>\n<style scoped>\n    .dataframe tbody tr th:only-of-type {\n        vertical-align: middle;\n    }\n\n    .dataframe tbody tr th {\n        vertical-align: top;\n    }\n\n    .dataframe thead th {\n        text-align: right;\n    }\n</style>\n<table border=\"1\" class=\"dataframe\">\n  <thead>\n    <tr style=\"text-align: right;\">\n      <th></th>\n      <th>survived</th>\n      <th>pclass</th>\n      <th>sex</th>\n      <th>age</th>\n      <th>sibsp</th>\n      <th>parch</th>\n      <th>fare</th>\n      <th>embarked</th>\n      <th>class</th>\n      <th>who</th>\n      <th>adult_male</th>\n      <th>deck</th>\n      <th>embark_town</th>\n      <th>alive</th>\n      <th>alone</th>\n    </tr>\n  </thead>\n  <tbody>\n    <tr>\n      <th>0</th>\n      <td>0</td>\n      <td>3</td>\n      <td>male</td>\n      <td>22.0</td>\n      <td>1</td>\n      <td>0</td>\n      <td>7.2500</td>\n      <td>S</td>\n      <td>Third</td>\n      <td>man</td>\n      <td>True</td>\n      <td>NaN</td>\n      <td>Southampton</td>\n      <td>no</td>\n      <td>False</td>\n    </tr>\n    <tr>\n      <th>1</th>\n      <td>1</td>\n      <td>1</td>\n      <td>female</td>\n      <td>38.0</td>\n      <td>1</td>\n      <td>0</td>\n      <td>71.2833</td>\n      <td>C</td>\n      <td>First</td>\n      <td>woman</td>\n      <td>False</td>\n      <td>C</td>\n      <td>Cherbourg</td>\n      <td>yes</td>\n      <td>False</td>\n    </tr>\n    <tr>\n      <th>2</th>\n      <td>1</td>\n      <td>3</td>\n      <td>female</td>\n      <td>26.0</td>\n      <td>0</td>\n      <td>0</td>\n      <td>7.9250</td>\n      <td>S</td>\n      <td>Third</td>\n      <td>woman</td>\n      <td>False</td>\n      <td>NaN</td>\n      <td>Southampton</td>\n      <td>yes</td>\n      <td>True</td>\n    </tr>\n    <tr>\n      <th>3</th>\n      <td>1</td>\n      <td>1</td>\n      <td>female</td>\n      <td>35.0</td>\n      <td>1</td>\n      <td>0</td>\n      <td>53.1000</td>\n      <td>S</td>\n      <td>First</td>\n      <td>woman</td>\n      <td>False</td>\n      <td>C</td>\n      <td>Southampton</td>\n      <td>yes</td>\n      <td>False</td>\n    </tr>\n    <tr>\n      <th>4</th>\n      <td>0</td>\n      <td>3</td>\n      <td>male</td>\n      <td>35.0</td>\n      <td>0</td>\n      <td>0</td>\n      <td>8.0500</td>\n      <td>S</td>\n      <td>Third</td>\n      <td>man</td>\n      <td>True</td>\n      <td>NaN</td>\n      <td>Southampton</td>\n      <td>no</td>\n      <td>True</td>\n    </tr>\n    <tr>\n      <th>...</th>\n      <td>...</td>\n      <td>...</td>\n      <td>...</td>\n      <td>...</td>\n      <td>...</td>\n      <td>...</td>\n      <td>...</td>\n      <td>...</td>\n      <td>...</td>\n      <td>...</td>\n      <td>...</td>\n      <td>...</td>\n      <td>...</td>\n      <td>...</td>\n      <td>...</td>\n    </tr>\n    <tr>\n      <th>886</th>\n      <td>0</td>\n      <td>2</td>\n      <td>male</td>\n      <td>27.0</td>\n      <td>0</td>\n      <td>0</td>\n      <td>13.0000</td>\n      <td>S</td>\n      <td>Second</td>\n      <td>man</td>\n      <td>True</td>\n      <td>NaN</td>\n      <td>Southampton</td>\n      <td>no</td>\n      <td>True</td>\n    </tr>\n    <tr>\n      <th>887</th>\n      <td>1</td>\n      <td>1</td>\n      <td>female</td>\n      <td>19.0</td>\n      <td>0</td>\n      <td>0</td>\n      <td>30.0000</td>\n      <td>S</td>\n      <td>First</td>\n      <td>woman</td>\n      <td>False</td>\n      <td>B</td>\n      <td>Southampton</td>\n      <td>yes</td>\n      <td>True</td>\n    </tr>\n    <tr>\n      <th>888</th>\n      <td>0</td>\n      <td>3</td>\n      <td>female</td>\n      <td>NaN</td>\n      <td>1</td>\n      <td>2</td>\n      <td>23.4500</td>\n      <td>S</td>\n      <td>Third</td>\n      <td>woman</td>\n      <td>False</td>\n      <td>NaN</td>\n      <td>Southampton</td>\n      <td>no</td>\n      <td>False</td>\n    </tr>\n    <tr>\n      <th>889</th>\n      <td>1</td>\n      <td>1</td>\n      <td>male</td>\n      <td>26.0</td>\n      <td>0</td>\n      <td>0</td>\n      <td>30.0000</td>\n      <td>C</td>\n      <td>First</td>\n      <td>man</td>\n      <td>True</td>\n      <td>C</td>\n      <td>Cherbourg</td>\n      <td>yes</td>\n      <td>True</td>\n    </tr>\n    <tr>\n      <th>890</th>\n      <td>0</td>\n      <td>3</td>\n      <td>male</td>\n      <td>32.0</td>\n      <td>0</td>\n      <td>0</td>\n      <td>7.7500</td>\n      <td>Q</td>\n      <td>Third</td>\n      <td>man</td>\n      <td>True</td>\n      <td>NaN</td>\n      <td>Queenstown</td>\n      <td>no</td>\n      <td>True</td>\n    </tr>\n  </tbody>\n</table>\n<p>891 rows × 15 columns</p>\n</div>"
     },
     "execution_count": 36,
     "metadata": {},
     "output_type": "execute_result"
    }
   ],
   "source": [
    "titanic"
   ]
  },
  {
   "cell_type": "code",
   "execution_count": 37,
   "metadata": {},
   "outputs": [
    {
     "data": {
      "text/plain": "     survived     sex\n1           1  female\n2           1  female\n3           1  female\n8           1  female\n9           1  female\n..        ...     ...\n875         1  female\n879         1  female\n880         1  female\n887         1  female\n889         1    male\n\n[342 rows x 2 columns]",
      "text/html": "<div>\n<style scoped>\n    .dataframe tbody tr th:only-of-type {\n        vertical-align: middle;\n    }\n\n    .dataframe tbody tr th {\n        vertical-align: top;\n    }\n\n    .dataframe thead th {\n        text-align: right;\n    }\n</style>\n<table border=\"1\" class=\"dataframe\">\n  <thead>\n    <tr style=\"text-align: right;\">\n      <th></th>\n      <th>survived</th>\n      <th>sex</th>\n    </tr>\n  </thead>\n  <tbody>\n    <tr>\n      <th>1</th>\n      <td>1</td>\n      <td>female</td>\n    </tr>\n    <tr>\n      <th>2</th>\n      <td>1</td>\n      <td>female</td>\n    </tr>\n    <tr>\n      <th>3</th>\n      <td>1</td>\n      <td>female</td>\n    </tr>\n    <tr>\n      <th>8</th>\n      <td>1</td>\n      <td>female</td>\n    </tr>\n    <tr>\n      <th>9</th>\n      <td>1</td>\n      <td>female</td>\n    </tr>\n    <tr>\n      <th>...</th>\n      <td>...</td>\n      <td>...</td>\n    </tr>\n    <tr>\n      <th>875</th>\n      <td>1</td>\n      <td>female</td>\n    </tr>\n    <tr>\n      <th>879</th>\n      <td>1</td>\n      <td>female</td>\n    </tr>\n    <tr>\n      <th>880</th>\n      <td>1</td>\n      <td>female</td>\n    </tr>\n    <tr>\n      <th>887</th>\n      <td>1</td>\n      <td>female</td>\n    </tr>\n    <tr>\n      <th>889</th>\n      <td>1</td>\n      <td>male</td>\n    </tr>\n  </tbody>\n</table>\n<p>342 rows × 2 columns</p>\n</div>"
     },
     "execution_count": 37,
     "metadata": {},
     "output_type": "execute_result"
    }
   ],
   "source": [
    "survived_age = titanic[['survived','sex']]\n",
    "survived_age[survived_age['survived']==1]"
   ]
  },
  {
   "cell_type": "code",
   "execution_count": 38,
   "metadata": {},
   "outputs": [
    {
     "data": {
      "text/plain": "survived    891\nsex         891\ndtype: int64"
     },
     "execution_count": 38,
     "metadata": {},
     "output_type": "execute_result"
    }
   ],
   "source": [
    "survived_age.count()"
   ]
  },
  {
   "cell_type": "code",
   "execution_count": 39,
   "metadata": {},
   "outputs": [
    {
     "data": {
      "text/plain": "male      64.758698\nfemale    35.241302\nName: sex, dtype: float64"
     },
     "execution_count": 39,
     "metadata": {},
     "output_type": "execute_result"
    }
   ],
   "source": [
    "survived_age['sex'].value_counts(normalize=True)*100"
   ]
  },
  {
   "cell_type": "markdown",
   "metadata": {},
   "source": [
    "Therefore, ladies and gentlemen, out of those who survived on titanic the percentage of females who survived was 64.75% and males was 35.24%"
   ]
  },
  {
   "cell_type": "markdown",
   "metadata": {},
   "source": [
    "**TODO3:** How many children (age <= 12) survived and which class ticket they had?\n",
    "**Hint:**\n",
    "filter based on column and groupby_count"
   ]
  },
  {
   "cell_type": "code",
   "execution_count": 40,
   "metadata": {},
   "outputs": [
    {
     "data": {
      "text/plain": "     survived  pclass     sex   age  sibsp  parch     fare embarked   class  \\\n0           0       3    male  22.0      1      0   7.2500        S   Third   \n1           1       1  female  38.0      1      0  71.2833        C   First   \n2           1       3  female  26.0      0      0   7.9250        S   Third   \n3           1       1  female  35.0      1      0  53.1000        S   First   \n4           0       3    male  35.0      0      0   8.0500        S   Third   \n..        ...     ...     ...   ...    ...    ...      ...      ...     ...   \n886         0       2    male  27.0      0      0  13.0000        S  Second   \n887         1       1  female  19.0      0      0  30.0000        S   First   \n888         0       3  female   NaN      1      2  23.4500        S   Third   \n889         1       1    male  26.0      0      0  30.0000        C   First   \n890         0       3    male  32.0      0      0   7.7500        Q   Third   \n\n       who  adult_male deck  embark_town alive  alone  \n0      man        True  NaN  Southampton    no  False  \n1    woman       False    C    Cherbourg   yes  False  \n2    woman       False  NaN  Southampton   yes   True  \n3    woman       False    C  Southampton   yes  False  \n4      man        True  NaN  Southampton    no   True  \n..     ...         ...  ...          ...   ...    ...  \n886    man        True  NaN  Southampton    no   True  \n887  woman       False    B  Southampton   yes   True  \n888  woman       False  NaN  Southampton    no  False  \n889    man        True    C    Cherbourg   yes   True  \n890    man        True  NaN   Queenstown    no   True  \n\n[891 rows x 15 columns]",
      "text/html": "<div>\n<style scoped>\n    .dataframe tbody tr th:only-of-type {\n        vertical-align: middle;\n    }\n\n    .dataframe tbody tr th {\n        vertical-align: top;\n    }\n\n    .dataframe thead th {\n        text-align: right;\n    }\n</style>\n<table border=\"1\" class=\"dataframe\">\n  <thead>\n    <tr style=\"text-align: right;\">\n      <th></th>\n      <th>survived</th>\n      <th>pclass</th>\n      <th>sex</th>\n      <th>age</th>\n      <th>sibsp</th>\n      <th>parch</th>\n      <th>fare</th>\n      <th>embarked</th>\n      <th>class</th>\n      <th>who</th>\n      <th>adult_male</th>\n      <th>deck</th>\n      <th>embark_town</th>\n      <th>alive</th>\n      <th>alone</th>\n    </tr>\n  </thead>\n  <tbody>\n    <tr>\n      <th>0</th>\n      <td>0</td>\n      <td>3</td>\n      <td>male</td>\n      <td>22.0</td>\n      <td>1</td>\n      <td>0</td>\n      <td>7.2500</td>\n      <td>S</td>\n      <td>Third</td>\n      <td>man</td>\n      <td>True</td>\n      <td>NaN</td>\n      <td>Southampton</td>\n      <td>no</td>\n      <td>False</td>\n    </tr>\n    <tr>\n      <th>1</th>\n      <td>1</td>\n      <td>1</td>\n      <td>female</td>\n      <td>38.0</td>\n      <td>1</td>\n      <td>0</td>\n      <td>71.2833</td>\n      <td>C</td>\n      <td>First</td>\n      <td>woman</td>\n      <td>False</td>\n      <td>C</td>\n      <td>Cherbourg</td>\n      <td>yes</td>\n      <td>False</td>\n    </tr>\n    <tr>\n      <th>2</th>\n      <td>1</td>\n      <td>3</td>\n      <td>female</td>\n      <td>26.0</td>\n      <td>0</td>\n      <td>0</td>\n      <td>7.9250</td>\n      <td>S</td>\n      <td>Third</td>\n      <td>woman</td>\n      <td>False</td>\n      <td>NaN</td>\n      <td>Southampton</td>\n      <td>yes</td>\n      <td>True</td>\n    </tr>\n    <tr>\n      <th>3</th>\n      <td>1</td>\n      <td>1</td>\n      <td>female</td>\n      <td>35.0</td>\n      <td>1</td>\n      <td>0</td>\n      <td>53.1000</td>\n      <td>S</td>\n      <td>First</td>\n      <td>woman</td>\n      <td>False</td>\n      <td>C</td>\n      <td>Southampton</td>\n      <td>yes</td>\n      <td>False</td>\n    </tr>\n    <tr>\n      <th>4</th>\n      <td>0</td>\n      <td>3</td>\n      <td>male</td>\n      <td>35.0</td>\n      <td>0</td>\n      <td>0</td>\n      <td>8.0500</td>\n      <td>S</td>\n      <td>Third</td>\n      <td>man</td>\n      <td>True</td>\n      <td>NaN</td>\n      <td>Southampton</td>\n      <td>no</td>\n      <td>True</td>\n    </tr>\n    <tr>\n      <th>...</th>\n      <td>...</td>\n      <td>...</td>\n      <td>...</td>\n      <td>...</td>\n      <td>...</td>\n      <td>...</td>\n      <td>...</td>\n      <td>...</td>\n      <td>...</td>\n      <td>...</td>\n      <td>...</td>\n      <td>...</td>\n      <td>...</td>\n      <td>...</td>\n      <td>...</td>\n    </tr>\n    <tr>\n      <th>886</th>\n      <td>0</td>\n      <td>2</td>\n      <td>male</td>\n      <td>27.0</td>\n      <td>0</td>\n      <td>0</td>\n      <td>13.0000</td>\n      <td>S</td>\n      <td>Second</td>\n      <td>man</td>\n      <td>True</td>\n      <td>NaN</td>\n      <td>Southampton</td>\n      <td>no</td>\n      <td>True</td>\n    </tr>\n    <tr>\n      <th>887</th>\n      <td>1</td>\n      <td>1</td>\n      <td>female</td>\n      <td>19.0</td>\n      <td>0</td>\n      <td>0</td>\n      <td>30.0000</td>\n      <td>S</td>\n      <td>First</td>\n      <td>woman</td>\n      <td>False</td>\n      <td>B</td>\n      <td>Southampton</td>\n      <td>yes</td>\n      <td>True</td>\n    </tr>\n    <tr>\n      <th>888</th>\n      <td>0</td>\n      <td>3</td>\n      <td>female</td>\n      <td>NaN</td>\n      <td>1</td>\n      <td>2</td>\n      <td>23.4500</td>\n      <td>S</td>\n      <td>Third</td>\n      <td>woman</td>\n      <td>False</td>\n      <td>NaN</td>\n      <td>Southampton</td>\n      <td>no</td>\n      <td>False</td>\n    </tr>\n    <tr>\n      <th>889</th>\n      <td>1</td>\n      <td>1</td>\n      <td>male</td>\n      <td>26.0</td>\n      <td>0</td>\n      <td>0</td>\n      <td>30.0000</td>\n      <td>C</td>\n      <td>First</td>\n      <td>man</td>\n      <td>True</td>\n      <td>C</td>\n      <td>Cherbourg</td>\n      <td>yes</td>\n      <td>True</td>\n    </tr>\n    <tr>\n      <th>890</th>\n      <td>0</td>\n      <td>3</td>\n      <td>male</td>\n      <td>32.0</td>\n      <td>0</td>\n      <td>0</td>\n      <td>7.7500</td>\n      <td>Q</td>\n      <td>Third</td>\n      <td>man</td>\n      <td>True</td>\n      <td>NaN</td>\n      <td>Queenstown</td>\n      <td>no</td>\n      <td>True</td>\n    </tr>\n  </tbody>\n</table>\n<p>891 rows × 15 columns</p>\n</div>"
     },
     "execution_count": 40,
     "metadata": {},
     "output_type": "execute_result"
    }
   ],
   "source": [
    "titanic"
   ]
  },
  {
   "cell_type": "markdown",
   "metadata": {},
   "source": [
    "So, we will need columns - survived, pclass, age, who"
   ]
  },
  {
   "cell_type": "code",
   "execution_count": 41,
   "metadata": {},
   "outputs": [],
   "source": [
    "children_survived = titanic[['survived','pclass','age','who']]\n",
    "# children_survived[(children_survived['survived']==1) and (children_survived['who']=='child') and (children_survived['age']<=12)]\n",
    "children_survived = children_survived[children_survived['survived']==1]\n",
    "children_survived = children_survived[children_survived['age'].notna()]\n",
    "children_survived = children_survived[children_survived['age']<=12]"
   ]
  },
  {
   "cell_type": "code",
   "execution_count": 42,
   "metadata": {},
   "outputs": [
    {
     "data": {
      "text/plain": "     survived  pclass    age    who\n10          1       3   4.00  child\n43          1       2   3.00  child\n58          1       2   5.00  child\n78          1       2   0.83  child\n125         1       3  12.00  child\n165         1       3   9.00  child\n172         1       3   1.00  child\n183         1       2   1.00  child\n184         1       3   4.00  child\n193         1       2   3.00  child\n233         1       3   5.00  child\n237         1       2   8.00  child\n261         1       3   3.00  child\n305         1       1   0.92  child\n340         1       2   2.00  child\n348         1       3   3.00  child\n381         1       3   1.00  child\n407         1       2   3.00  child\n445         1       1   4.00  child\n448         1       3   5.00  child\n469         1       3   0.75  child\n479         1       3   2.00  child\n489         1       3   9.00  child\n530         1       2   2.00  child\n535         1       2   7.00  child\n549         1       2   8.00  child\n618         1       2   4.00  child\n644         1       3   0.75  child\n691         1       3   4.00  child\n720         1       2   6.00  child\n750         1       2   4.00  child\n751         1       3   6.00  child\n755         1       2   0.67  child\n777         1       3   5.00  child\n788         1       3   1.00  child\n802         1       1  11.00  child\n803         1       3   0.42  child\n827         1       2   1.00  child\n831         1       2   0.83  child\n869         1       3   4.00  child",
      "text/html": "<div>\n<style scoped>\n    .dataframe tbody tr th:only-of-type {\n        vertical-align: middle;\n    }\n\n    .dataframe tbody tr th {\n        vertical-align: top;\n    }\n\n    .dataframe thead th {\n        text-align: right;\n    }\n</style>\n<table border=\"1\" class=\"dataframe\">\n  <thead>\n    <tr style=\"text-align: right;\">\n      <th></th>\n      <th>survived</th>\n      <th>pclass</th>\n      <th>age</th>\n      <th>who</th>\n    </tr>\n  </thead>\n  <tbody>\n    <tr>\n      <th>10</th>\n      <td>1</td>\n      <td>3</td>\n      <td>4.00</td>\n      <td>child</td>\n    </tr>\n    <tr>\n      <th>43</th>\n      <td>1</td>\n      <td>2</td>\n      <td>3.00</td>\n      <td>child</td>\n    </tr>\n    <tr>\n      <th>58</th>\n      <td>1</td>\n      <td>2</td>\n      <td>5.00</td>\n      <td>child</td>\n    </tr>\n    <tr>\n      <th>78</th>\n      <td>1</td>\n      <td>2</td>\n      <td>0.83</td>\n      <td>child</td>\n    </tr>\n    <tr>\n      <th>125</th>\n      <td>1</td>\n      <td>3</td>\n      <td>12.00</td>\n      <td>child</td>\n    </tr>\n    <tr>\n      <th>165</th>\n      <td>1</td>\n      <td>3</td>\n      <td>9.00</td>\n      <td>child</td>\n    </tr>\n    <tr>\n      <th>172</th>\n      <td>1</td>\n      <td>3</td>\n      <td>1.00</td>\n      <td>child</td>\n    </tr>\n    <tr>\n      <th>183</th>\n      <td>1</td>\n      <td>2</td>\n      <td>1.00</td>\n      <td>child</td>\n    </tr>\n    <tr>\n      <th>184</th>\n      <td>1</td>\n      <td>3</td>\n      <td>4.00</td>\n      <td>child</td>\n    </tr>\n    <tr>\n      <th>193</th>\n      <td>1</td>\n      <td>2</td>\n      <td>3.00</td>\n      <td>child</td>\n    </tr>\n    <tr>\n      <th>233</th>\n      <td>1</td>\n      <td>3</td>\n      <td>5.00</td>\n      <td>child</td>\n    </tr>\n    <tr>\n      <th>237</th>\n      <td>1</td>\n      <td>2</td>\n      <td>8.00</td>\n      <td>child</td>\n    </tr>\n    <tr>\n      <th>261</th>\n      <td>1</td>\n      <td>3</td>\n      <td>3.00</td>\n      <td>child</td>\n    </tr>\n    <tr>\n      <th>305</th>\n      <td>1</td>\n      <td>1</td>\n      <td>0.92</td>\n      <td>child</td>\n    </tr>\n    <tr>\n      <th>340</th>\n      <td>1</td>\n      <td>2</td>\n      <td>2.00</td>\n      <td>child</td>\n    </tr>\n    <tr>\n      <th>348</th>\n      <td>1</td>\n      <td>3</td>\n      <td>3.00</td>\n      <td>child</td>\n    </tr>\n    <tr>\n      <th>381</th>\n      <td>1</td>\n      <td>3</td>\n      <td>1.00</td>\n      <td>child</td>\n    </tr>\n    <tr>\n      <th>407</th>\n      <td>1</td>\n      <td>2</td>\n      <td>3.00</td>\n      <td>child</td>\n    </tr>\n    <tr>\n      <th>445</th>\n      <td>1</td>\n      <td>1</td>\n      <td>4.00</td>\n      <td>child</td>\n    </tr>\n    <tr>\n      <th>448</th>\n      <td>1</td>\n      <td>3</td>\n      <td>5.00</td>\n      <td>child</td>\n    </tr>\n    <tr>\n      <th>469</th>\n      <td>1</td>\n      <td>3</td>\n      <td>0.75</td>\n      <td>child</td>\n    </tr>\n    <tr>\n      <th>479</th>\n      <td>1</td>\n      <td>3</td>\n      <td>2.00</td>\n      <td>child</td>\n    </tr>\n    <tr>\n      <th>489</th>\n      <td>1</td>\n      <td>3</td>\n      <td>9.00</td>\n      <td>child</td>\n    </tr>\n    <tr>\n      <th>530</th>\n      <td>1</td>\n      <td>2</td>\n      <td>2.00</td>\n      <td>child</td>\n    </tr>\n    <tr>\n      <th>535</th>\n      <td>1</td>\n      <td>2</td>\n      <td>7.00</td>\n      <td>child</td>\n    </tr>\n    <tr>\n      <th>549</th>\n      <td>1</td>\n      <td>2</td>\n      <td>8.00</td>\n      <td>child</td>\n    </tr>\n    <tr>\n      <th>618</th>\n      <td>1</td>\n      <td>2</td>\n      <td>4.00</td>\n      <td>child</td>\n    </tr>\n    <tr>\n      <th>644</th>\n      <td>1</td>\n      <td>3</td>\n      <td>0.75</td>\n      <td>child</td>\n    </tr>\n    <tr>\n      <th>691</th>\n      <td>1</td>\n      <td>3</td>\n      <td>4.00</td>\n      <td>child</td>\n    </tr>\n    <tr>\n      <th>720</th>\n      <td>1</td>\n      <td>2</td>\n      <td>6.00</td>\n      <td>child</td>\n    </tr>\n    <tr>\n      <th>750</th>\n      <td>1</td>\n      <td>2</td>\n      <td>4.00</td>\n      <td>child</td>\n    </tr>\n    <tr>\n      <th>751</th>\n      <td>1</td>\n      <td>3</td>\n      <td>6.00</td>\n      <td>child</td>\n    </tr>\n    <tr>\n      <th>755</th>\n      <td>1</td>\n      <td>2</td>\n      <td>0.67</td>\n      <td>child</td>\n    </tr>\n    <tr>\n      <th>777</th>\n      <td>1</td>\n      <td>3</td>\n      <td>5.00</td>\n      <td>child</td>\n    </tr>\n    <tr>\n      <th>788</th>\n      <td>1</td>\n      <td>3</td>\n      <td>1.00</td>\n      <td>child</td>\n    </tr>\n    <tr>\n      <th>802</th>\n      <td>1</td>\n      <td>1</td>\n      <td>11.00</td>\n      <td>child</td>\n    </tr>\n    <tr>\n      <th>803</th>\n      <td>1</td>\n      <td>3</td>\n      <td>0.42</td>\n      <td>child</td>\n    </tr>\n    <tr>\n      <th>827</th>\n      <td>1</td>\n      <td>2</td>\n      <td>1.00</td>\n      <td>child</td>\n    </tr>\n    <tr>\n      <th>831</th>\n      <td>1</td>\n      <td>2</td>\n      <td>0.83</td>\n      <td>child</td>\n    </tr>\n    <tr>\n      <th>869</th>\n      <td>1</td>\n      <td>3</td>\n      <td>4.00</td>\n      <td>child</td>\n    </tr>\n  </tbody>\n</table>\n</div>"
     },
     "execution_count": 42,
     "metadata": {},
     "output_type": "execute_result"
    }
   ],
   "source": [
    "children_survived"
   ]
  },
  {
   "cell_type": "code",
   "execution_count": 43,
   "metadata": {},
   "outputs": [
    {
     "data": {
      "text/plain": "survived    40\npclass      40\nage         40\nwho         40\ndtype: int64"
     },
     "execution_count": 43,
     "metadata": {},
     "output_type": "execute_result"
    }
   ],
   "source": [
    "children_survived.count()"
   ]
  },
  {
   "cell_type": "code",
   "execution_count": 44,
   "metadata": {},
   "outputs": [
    {
     "data": {
      "text/plain": "3    50.0\n2    42.5\n1     7.5\nName: pclass, dtype: float64"
     },
     "execution_count": 44,
     "metadata": {},
     "output_type": "execute_result"
    }
   ],
   "source": [
    "children_survived['pclass'].value_counts(normalize=True)*100"
   ]
  },
  {
   "cell_type": "markdown",
   "metadata": {},
   "source": [
    "50% children had class 3 ticket, followed by class 2 with 42% and class 1 with 7.5%"
   ]
  },
  {
   "cell_type": "code",
   "execution_count": 45,
   "metadata": {},
   "outputs": [
    {
     "data": {
      "text/plain": "3    20\n2    17\n1     3\nName: pclass, dtype: int64"
     },
     "execution_count": 45,
     "metadata": {},
     "output_type": "execute_result"
    }
   ],
   "source": [
    "children_survived['pclass'].value_counts()"
   ]
  },
  {
   "cell_type": "markdown",
   "metadata": {},
   "source": [
    "20 children had a class 3 ticket, 17 a class 2 ticket and 3 a class 1 ticket"
   ]
  },
  {
   "cell_type": "markdown",
   "metadata": {},
   "source": [
    "**TODO4:** How many first class seated girls (children) DID NOT survive?"
   ]
  },
  {
   "cell_type": "code",
   "execution_count": 46,
   "metadata": {},
   "outputs": [
    {
     "data": {
      "text/plain": "     survived  pclass     sex   age  sibsp  parch     fare embarked   class  \\\n0           0       3    male  22.0      1      0   7.2500        S   Third   \n1           1       1  female  38.0      1      0  71.2833        C   First   \n2           1       3  female  26.0      0      0   7.9250        S   Third   \n3           1       1  female  35.0      1      0  53.1000        S   First   \n4           0       3    male  35.0      0      0   8.0500        S   Third   \n..        ...     ...     ...   ...    ...    ...      ...      ...     ...   \n886         0       2    male  27.0      0      0  13.0000        S  Second   \n887         1       1  female  19.0      0      0  30.0000        S   First   \n888         0       3  female   NaN      1      2  23.4500        S   Third   \n889         1       1    male  26.0      0      0  30.0000        C   First   \n890         0       3    male  32.0      0      0   7.7500        Q   Third   \n\n       who  adult_male deck  embark_town alive  alone  \n0      man        True  NaN  Southampton    no  False  \n1    woman       False    C    Cherbourg   yes  False  \n2    woman       False  NaN  Southampton   yes   True  \n3    woman       False    C  Southampton   yes  False  \n4      man        True  NaN  Southampton    no   True  \n..     ...         ...  ...          ...   ...    ...  \n886    man        True  NaN  Southampton    no   True  \n887  woman       False    B  Southampton   yes   True  \n888  woman       False  NaN  Southampton    no  False  \n889    man        True    C    Cherbourg   yes   True  \n890    man        True  NaN   Queenstown    no   True  \n\n[891 rows x 15 columns]",
      "text/html": "<div>\n<style scoped>\n    .dataframe tbody tr th:only-of-type {\n        vertical-align: middle;\n    }\n\n    .dataframe tbody tr th {\n        vertical-align: top;\n    }\n\n    .dataframe thead th {\n        text-align: right;\n    }\n</style>\n<table border=\"1\" class=\"dataframe\">\n  <thead>\n    <tr style=\"text-align: right;\">\n      <th></th>\n      <th>survived</th>\n      <th>pclass</th>\n      <th>sex</th>\n      <th>age</th>\n      <th>sibsp</th>\n      <th>parch</th>\n      <th>fare</th>\n      <th>embarked</th>\n      <th>class</th>\n      <th>who</th>\n      <th>adult_male</th>\n      <th>deck</th>\n      <th>embark_town</th>\n      <th>alive</th>\n      <th>alone</th>\n    </tr>\n  </thead>\n  <tbody>\n    <tr>\n      <th>0</th>\n      <td>0</td>\n      <td>3</td>\n      <td>male</td>\n      <td>22.0</td>\n      <td>1</td>\n      <td>0</td>\n      <td>7.2500</td>\n      <td>S</td>\n      <td>Third</td>\n      <td>man</td>\n      <td>True</td>\n      <td>NaN</td>\n      <td>Southampton</td>\n      <td>no</td>\n      <td>False</td>\n    </tr>\n    <tr>\n      <th>1</th>\n      <td>1</td>\n      <td>1</td>\n      <td>female</td>\n      <td>38.0</td>\n      <td>1</td>\n      <td>0</td>\n      <td>71.2833</td>\n      <td>C</td>\n      <td>First</td>\n      <td>woman</td>\n      <td>False</td>\n      <td>C</td>\n      <td>Cherbourg</td>\n      <td>yes</td>\n      <td>False</td>\n    </tr>\n    <tr>\n      <th>2</th>\n      <td>1</td>\n      <td>3</td>\n      <td>female</td>\n      <td>26.0</td>\n      <td>0</td>\n      <td>0</td>\n      <td>7.9250</td>\n      <td>S</td>\n      <td>Third</td>\n      <td>woman</td>\n      <td>False</td>\n      <td>NaN</td>\n      <td>Southampton</td>\n      <td>yes</td>\n      <td>True</td>\n    </tr>\n    <tr>\n      <th>3</th>\n      <td>1</td>\n      <td>1</td>\n      <td>female</td>\n      <td>35.0</td>\n      <td>1</td>\n      <td>0</td>\n      <td>53.1000</td>\n      <td>S</td>\n      <td>First</td>\n      <td>woman</td>\n      <td>False</td>\n      <td>C</td>\n      <td>Southampton</td>\n      <td>yes</td>\n      <td>False</td>\n    </tr>\n    <tr>\n      <th>4</th>\n      <td>0</td>\n      <td>3</td>\n      <td>male</td>\n      <td>35.0</td>\n      <td>0</td>\n      <td>0</td>\n      <td>8.0500</td>\n      <td>S</td>\n      <td>Third</td>\n      <td>man</td>\n      <td>True</td>\n      <td>NaN</td>\n      <td>Southampton</td>\n      <td>no</td>\n      <td>True</td>\n    </tr>\n    <tr>\n      <th>...</th>\n      <td>...</td>\n      <td>...</td>\n      <td>...</td>\n      <td>...</td>\n      <td>...</td>\n      <td>...</td>\n      <td>...</td>\n      <td>...</td>\n      <td>...</td>\n      <td>...</td>\n      <td>...</td>\n      <td>...</td>\n      <td>...</td>\n      <td>...</td>\n      <td>...</td>\n    </tr>\n    <tr>\n      <th>886</th>\n      <td>0</td>\n      <td>2</td>\n      <td>male</td>\n      <td>27.0</td>\n      <td>0</td>\n      <td>0</td>\n      <td>13.0000</td>\n      <td>S</td>\n      <td>Second</td>\n      <td>man</td>\n      <td>True</td>\n      <td>NaN</td>\n      <td>Southampton</td>\n      <td>no</td>\n      <td>True</td>\n    </tr>\n    <tr>\n      <th>887</th>\n      <td>1</td>\n      <td>1</td>\n      <td>female</td>\n      <td>19.0</td>\n      <td>0</td>\n      <td>0</td>\n      <td>30.0000</td>\n      <td>S</td>\n      <td>First</td>\n      <td>woman</td>\n      <td>False</td>\n      <td>B</td>\n      <td>Southampton</td>\n      <td>yes</td>\n      <td>True</td>\n    </tr>\n    <tr>\n      <th>888</th>\n      <td>0</td>\n      <td>3</td>\n      <td>female</td>\n      <td>NaN</td>\n      <td>1</td>\n      <td>2</td>\n      <td>23.4500</td>\n      <td>S</td>\n      <td>Third</td>\n      <td>woman</td>\n      <td>False</td>\n      <td>NaN</td>\n      <td>Southampton</td>\n      <td>no</td>\n      <td>False</td>\n    </tr>\n    <tr>\n      <th>889</th>\n      <td>1</td>\n      <td>1</td>\n      <td>male</td>\n      <td>26.0</td>\n      <td>0</td>\n      <td>0</td>\n      <td>30.0000</td>\n      <td>C</td>\n      <td>First</td>\n      <td>man</td>\n      <td>True</td>\n      <td>C</td>\n      <td>Cherbourg</td>\n      <td>yes</td>\n      <td>True</td>\n    </tr>\n    <tr>\n      <th>890</th>\n      <td>0</td>\n      <td>3</td>\n      <td>male</td>\n      <td>32.0</td>\n      <td>0</td>\n      <td>0</td>\n      <td>7.7500</td>\n      <td>Q</td>\n      <td>Third</td>\n      <td>man</td>\n      <td>True</td>\n      <td>NaN</td>\n      <td>Queenstown</td>\n      <td>no</td>\n      <td>True</td>\n    </tr>\n  </tbody>\n</table>\n<p>891 rows × 15 columns</p>\n</div>"
     },
     "execution_count": 46,
     "metadata": {},
     "output_type": "execute_result"
    }
   ],
   "source": [
    "titanic"
   ]
  },
  {
   "cell_type": "markdown",
   "source": [
    "data required - 1) survived , 2)sex , 3) class, 4) who"
   ],
   "metadata": {
    "collapsed": false
   }
  },
  {
   "cell_type": "code",
   "execution_count": 47,
   "metadata": {},
   "outputs": [
    {
     "data": {
      "text/plain": "     survived  pclass     sex  age  sibsp  parch    fare embarked  class  \\\n297         0       1  female  2.0      1      2  151.55        S  First   \n\n       who  adult_male deck  embark_town alive  alone  \n297  child       False    C  Southampton    no  False  ",
      "text/html": "<div>\n<style scoped>\n    .dataframe tbody tr th:only-of-type {\n        vertical-align: middle;\n    }\n\n    .dataframe tbody tr th {\n        vertical-align: top;\n    }\n\n    .dataframe thead th {\n        text-align: right;\n    }\n</style>\n<table border=\"1\" class=\"dataframe\">\n  <thead>\n    <tr style=\"text-align: right;\">\n      <th></th>\n      <th>survived</th>\n      <th>pclass</th>\n      <th>sex</th>\n      <th>age</th>\n      <th>sibsp</th>\n      <th>parch</th>\n      <th>fare</th>\n      <th>embarked</th>\n      <th>class</th>\n      <th>who</th>\n      <th>adult_male</th>\n      <th>deck</th>\n      <th>embark_town</th>\n      <th>alive</th>\n      <th>alone</th>\n    </tr>\n  </thead>\n  <tbody>\n    <tr>\n      <th>297</th>\n      <td>0</td>\n      <td>1</td>\n      <td>female</td>\n      <td>2.0</td>\n      <td>1</td>\n      <td>2</td>\n      <td>151.55</td>\n      <td>S</td>\n      <td>First</td>\n      <td>child</td>\n      <td>False</td>\n      <td>C</td>\n      <td>Southampton</td>\n      <td>no</td>\n      <td>False</td>\n    </tr>\n  </tbody>\n</table>\n</div>"
     },
     "execution_count": 47,
     "metadata": {},
     "output_type": "execute_result"
    }
   ],
   "source": [
    "girls_survived = titanic.loc[(titanic['survived']==0)&(titanic['sex']=='female')&(titanic['class']=='First')&(titanic['who']=='child')]\n",
    "girls_survived"
   ]
  },
  {
   "cell_type": "markdown",
   "source": [
    "Only one female child of age 2 did not survive"
   ],
   "metadata": {
    "collapsed": false
   }
  },
  {
   "cell_type": "markdown",
   "source": [
    "**TODO5**: Check whether variable ‘survived’ and ‘alive’ are consistent (contains the same information). Is there any other redundant variable existing in this dataset? Drop all the redundant variables and present the updated dataset."
   ],
   "metadata": {
    "collapsed": false
   }
  },
  {
   "cell_type": "code",
   "execution_count": 48,
   "outputs": [
    {
     "data": {
      "text/plain": "     survived alive\n0           0    no\n1           1   yes\n2           1   yes\n3           1   yes\n4           0    no\n..        ...   ...\n886         0    no\n887         1   yes\n888         0    no\n889         1   yes\n890         0    no\n\n[891 rows x 2 columns]",
      "text/html": "<div>\n<style scoped>\n    .dataframe tbody tr th:only-of-type {\n        vertical-align: middle;\n    }\n\n    .dataframe tbody tr th {\n        vertical-align: top;\n    }\n\n    .dataframe thead th {\n        text-align: right;\n    }\n</style>\n<table border=\"1\" class=\"dataframe\">\n  <thead>\n    <tr style=\"text-align: right;\">\n      <th></th>\n      <th>survived</th>\n      <th>alive</th>\n    </tr>\n  </thead>\n  <tbody>\n    <tr>\n      <th>0</th>\n      <td>0</td>\n      <td>no</td>\n    </tr>\n    <tr>\n      <th>1</th>\n      <td>1</td>\n      <td>yes</td>\n    </tr>\n    <tr>\n      <th>2</th>\n      <td>1</td>\n      <td>yes</td>\n    </tr>\n    <tr>\n      <th>3</th>\n      <td>1</td>\n      <td>yes</td>\n    </tr>\n    <tr>\n      <th>4</th>\n      <td>0</td>\n      <td>no</td>\n    </tr>\n    <tr>\n      <th>...</th>\n      <td>...</td>\n      <td>...</td>\n    </tr>\n    <tr>\n      <th>886</th>\n      <td>0</td>\n      <td>no</td>\n    </tr>\n    <tr>\n      <th>887</th>\n      <td>1</td>\n      <td>yes</td>\n    </tr>\n    <tr>\n      <th>888</th>\n      <td>0</td>\n      <td>no</td>\n    </tr>\n    <tr>\n      <th>889</th>\n      <td>1</td>\n      <td>yes</td>\n    </tr>\n    <tr>\n      <th>890</th>\n      <td>0</td>\n      <td>no</td>\n    </tr>\n  </tbody>\n</table>\n<p>891 rows × 2 columns</p>\n</div>"
     },
     "execution_count": 48,
     "metadata": {},
     "output_type": "execute_result"
    }
   ],
   "source": [
    "titanic[['survived','alive']]"
   ],
   "metadata": {
    "collapsed": false
   }
  },
  {
   "cell_type": "code",
   "execution_count": 49,
   "outputs": [
    {
     "data": {
      "text/plain": "array([0, 1])"
     },
     "execution_count": 49,
     "metadata": {},
     "output_type": "execute_result"
    }
   ],
   "source": [
    "titanic['survived'].unique() # no missing values"
   ],
   "metadata": {
    "collapsed": false
   }
  },
  {
   "cell_type": "code",
   "execution_count": 50,
   "outputs": [
    {
     "data": {
      "text/plain": "array(['no', 'yes'], dtype=object)"
     },
     "execution_count": 50,
     "metadata": {},
     "output_type": "execute_result"
    }
   ],
   "source": [
    "titanic['alive'].unique()   # no missing values"
   ],
   "metadata": {
    "collapsed": false
   }
  },
  {
   "cell_type": "code",
   "execution_count": 51,
   "outputs": [],
   "source": [
    "# since there are no missing values, what we can do is in column alive for no=0 and yes =1 and then compare 1==1 and 0==0 for both columns"
   ],
   "metadata": {
    "collapsed": false
   }
  },
  {
   "cell_type": "code",
   "execution_count": 52,
   "outputs": [
    {
     "data": {
      "text/plain": "     survived alive\n0           0    no\n1           1   yes\n2           1   yes\n3           1   yes\n4           0    no\n..        ...   ...\n886         0    no\n887         1   yes\n888         0    no\n889         1   yes\n890         0    no\n\n[891 rows x 2 columns]",
      "text/html": "<div>\n<style scoped>\n    .dataframe tbody tr th:only-of-type {\n        vertical-align: middle;\n    }\n\n    .dataframe tbody tr th {\n        vertical-align: top;\n    }\n\n    .dataframe thead th {\n        text-align: right;\n    }\n</style>\n<table border=\"1\" class=\"dataframe\">\n  <thead>\n    <tr style=\"text-align: right;\">\n      <th></th>\n      <th>survived</th>\n      <th>alive</th>\n    </tr>\n  </thead>\n  <tbody>\n    <tr>\n      <th>0</th>\n      <td>0</td>\n      <td>no</td>\n    </tr>\n    <tr>\n      <th>1</th>\n      <td>1</td>\n      <td>yes</td>\n    </tr>\n    <tr>\n      <th>2</th>\n      <td>1</td>\n      <td>yes</td>\n    </tr>\n    <tr>\n      <th>3</th>\n      <td>1</td>\n      <td>yes</td>\n    </tr>\n    <tr>\n      <th>4</th>\n      <td>0</td>\n      <td>no</td>\n    </tr>\n    <tr>\n      <th>...</th>\n      <td>...</td>\n      <td>...</td>\n    </tr>\n    <tr>\n      <th>886</th>\n      <td>0</td>\n      <td>no</td>\n    </tr>\n    <tr>\n      <th>887</th>\n      <td>1</td>\n      <td>yes</td>\n    </tr>\n    <tr>\n      <th>888</th>\n      <td>0</td>\n      <td>no</td>\n    </tr>\n    <tr>\n      <th>889</th>\n      <td>1</td>\n      <td>yes</td>\n    </tr>\n    <tr>\n      <th>890</th>\n      <td>0</td>\n      <td>no</td>\n    </tr>\n  </tbody>\n</table>\n<p>891 rows × 2 columns</p>\n</div>"
     },
     "execution_count": 52,
     "metadata": {},
     "output_type": "execute_result"
    }
   ],
   "source": [
    "check_consistency = titanic[['survived','alive']]\n",
    "check_consistency"
   ],
   "metadata": {
    "collapsed": false
   }
  },
  {
   "cell_type": "code",
   "execution_count": 53,
   "outputs": [
    {
     "name": "stderr",
     "output_type": "stream",
     "text": [
      "/var/folders/kd/vczjh0f55158sc6lflbyfd4w0000gn/T/ipykernel_29615/2107926244.py:1: SettingWithCopyWarning: \n",
      "A value is trying to be set on a copy of a slice from a DataFrame.\n",
      "Try using .loc[row_indexer,col_indexer] = value instead\n",
      "\n",
      "See the caveats in the documentation: https://pandas.pydata.org/pandas-docs/stable/user_guide/indexing.html#returning-a-view-versus-a-copy\n",
      "  check_consistency.replace({'alive':{'no':0, 'yes':1}},regex=True,inplace=True)\n"
     ]
    },
    {
     "data": {
      "text/plain": "     survived  alive\n0           0      0\n1           1      1\n2           1      1\n3           1      1\n4           0      0\n..        ...    ...\n886         0      0\n887         1      1\n888         0      0\n889         1      1\n890         0      0\n\n[891 rows x 2 columns]",
      "text/html": "<div>\n<style scoped>\n    .dataframe tbody tr th:only-of-type {\n        vertical-align: middle;\n    }\n\n    .dataframe tbody tr th {\n        vertical-align: top;\n    }\n\n    .dataframe thead th {\n        text-align: right;\n    }\n</style>\n<table border=\"1\" class=\"dataframe\">\n  <thead>\n    <tr style=\"text-align: right;\">\n      <th></th>\n      <th>survived</th>\n      <th>alive</th>\n    </tr>\n  </thead>\n  <tbody>\n    <tr>\n      <th>0</th>\n      <td>0</td>\n      <td>0</td>\n    </tr>\n    <tr>\n      <th>1</th>\n      <td>1</td>\n      <td>1</td>\n    </tr>\n    <tr>\n      <th>2</th>\n      <td>1</td>\n      <td>1</td>\n    </tr>\n    <tr>\n      <th>3</th>\n      <td>1</td>\n      <td>1</td>\n    </tr>\n    <tr>\n      <th>4</th>\n      <td>0</td>\n      <td>0</td>\n    </tr>\n    <tr>\n      <th>...</th>\n      <td>...</td>\n      <td>...</td>\n    </tr>\n    <tr>\n      <th>886</th>\n      <td>0</td>\n      <td>0</td>\n    </tr>\n    <tr>\n      <th>887</th>\n      <td>1</td>\n      <td>1</td>\n    </tr>\n    <tr>\n      <th>888</th>\n      <td>0</td>\n      <td>0</td>\n    </tr>\n    <tr>\n      <th>889</th>\n      <td>1</td>\n      <td>1</td>\n    </tr>\n    <tr>\n      <th>890</th>\n      <td>0</td>\n      <td>0</td>\n    </tr>\n  </tbody>\n</table>\n<p>891 rows × 2 columns</p>\n</div>"
     },
     "execution_count": 53,
     "metadata": {},
     "output_type": "execute_result"
    }
   ],
   "source": [
    "check_consistency.replace({'alive':{'no':0, 'yes':1}},regex=True,inplace=True)\n",
    "check_consistency\n",
    "# works!"
   ],
   "metadata": {
    "collapsed": false
   }
  },
  {
   "cell_type": "code",
   "execution_count": 54,
   "outputs": [
    {
     "data": {
      "text/plain": "pandas.core.frame.DataFrame"
     },
     "execution_count": 54,
     "metadata": {},
     "output_type": "execute_result"
    }
   ],
   "source": [
    "type(check_consistency)"
   ],
   "metadata": {
    "collapsed": false
   }
  },
  {
   "cell_type": "code",
   "execution_count": 55,
   "outputs": [],
   "source": [
    "# check_consistency.replace({'alive': {'no','yes'}},'0','1')\n",
    "# check_consistency\n",
    "# does not work"
   ],
   "metadata": {
    "collapsed": false
   }
  },
  {
   "cell_type": "code",
   "execution_count": 56,
   "outputs": [],
   "source": [
    "# check_consistency.replace(['no','yes'],['0','1'])\n",
    "# check_consistency\n",
    "# # does not work"
   ],
   "metadata": {
    "collapsed": false
   }
  },
  {
   "cell_type": "markdown",
   "source": [
    "**TODO6**: What other insights can you draw from this dataset? Present one finding through pivot table."
   ],
   "metadata": {
    "collapsed": false
   }
  },
  {
   "cell_type": "code",
   "execution_count": 57,
   "outputs": [
    {
     "data": {
      "text/plain": "     survived  pclass     sex   age  sibsp  parch     fare embarked   class  \\\n0           0       3    male  22.0      1      0   7.2500        S   Third   \n1           1       1  female  38.0      1      0  71.2833        C   First   \n2           1       3  female  26.0      0      0   7.9250        S   Third   \n3           1       1  female  35.0      1      0  53.1000        S   First   \n4           0       3    male  35.0      0      0   8.0500        S   Third   \n..        ...     ...     ...   ...    ...    ...      ...      ...     ...   \n886         0       2    male  27.0      0      0  13.0000        S  Second   \n887         1       1  female  19.0      0      0  30.0000        S   First   \n888         0       3  female   NaN      1      2  23.4500        S   Third   \n889         1       1    male  26.0      0      0  30.0000        C   First   \n890         0       3    male  32.0      0      0   7.7500        Q   Third   \n\n       who  adult_male deck  embark_town alive  alone  \n0      man        True  NaN  Southampton    no  False  \n1    woman       False    C    Cherbourg   yes  False  \n2    woman       False  NaN  Southampton   yes   True  \n3    woman       False    C  Southampton   yes  False  \n4      man        True  NaN  Southampton    no   True  \n..     ...         ...  ...          ...   ...    ...  \n886    man        True  NaN  Southampton    no   True  \n887  woman       False    B  Southampton   yes   True  \n888  woman       False  NaN  Southampton    no  False  \n889    man        True    C    Cherbourg   yes   True  \n890    man        True  NaN   Queenstown    no   True  \n\n[891 rows x 15 columns]",
      "text/html": "<div>\n<style scoped>\n    .dataframe tbody tr th:only-of-type {\n        vertical-align: middle;\n    }\n\n    .dataframe tbody tr th {\n        vertical-align: top;\n    }\n\n    .dataframe thead th {\n        text-align: right;\n    }\n</style>\n<table border=\"1\" class=\"dataframe\">\n  <thead>\n    <tr style=\"text-align: right;\">\n      <th></th>\n      <th>survived</th>\n      <th>pclass</th>\n      <th>sex</th>\n      <th>age</th>\n      <th>sibsp</th>\n      <th>parch</th>\n      <th>fare</th>\n      <th>embarked</th>\n      <th>class</th>\n      <th>who</th>\n      <th>adult_male</th>\n      <th>deck</th>\n      <th>embark_town</th>\n      <th>alive</th>\n      <th>alone</th>\n    </tr>\n  </thead>\n  <tbody>\n    <tr>\n      <th>0</th>\n      <td>0</td>\n      <td>3</td>\n      <td>male</td>\n      <td>22.0</td>\n      <td>1</td>\n      <td>0</td>\n      <td>7.2500</td>\n      <td>S</td>\n      <td>Third</td>\n      <td>man</td>\n      <td>True</td>\n      <td>NaN</td>\n      <td>Southampton</td>\n      <td>no</td>\n      <td>False</td>\n    </tr>\n    <tr>\n      <th>1</th>\n      <td>1</td>\n      <td>1</td>\n      <td>female</td>\n      <td>38.0</td>\n      <td>1</td>\n      <td>0</td>\n      <td>71.2833</td>\n      <td>C</td>\n      <td>First</td>\n      <td>woman</td>\n      <td>False</td>\n      <td>C</td>\n      <td>Cherbourg</td>\n      <td>yes</td>\n      <td>False</td>\n    </tr>\n    <tr>\n      <th>2</th>\n      <td>1</td>\n      <td>3</td>\n      <td>female</td>\n      <td>26.0</td>\n      <td>0</td>\n      <td>0</td>\n      <td>7.9250</td>\n      <td>S</td>\n      <td>Third</td>\n      <td>woman</td>\n      <td>False</td>\n      <td>NaN</td>\n      <td>Southampton</td>\n      <td>yes</td>\n      <td>True</td>\n    </tr>\n    <tr>\n      <th>3</th>\n      <td>1</td>\n      <td>1</td>\n      <td>female</td>\n      <td>35.0</td>\n      <td>1</td>\n      <td>0</td>\n      <td>53.1000</td>\n      <td>S</td>\n      <td>First</td>\n      <td>woman</td>\n      <td>False</td>\n      <td>C</td>\n      <td>Southampton</td>\n      <td>yes</td>\n      <td>False</td>\n    </tr>\n    <tr>\n      <th>4</th>\n      <td>0</td>\n      <td>3</td>\n      <td>male</td>\n      <td>35.0</td>\n      <td>0</td>\n      <td>0</td>\n      <td>8.0500</td>\n      <td>S</td>\n      <td>Third</td>\n      <td>man</td>\n      <td>True</td>\n      <td>NaN</td>\n      <td>Southampton</td>\n      <td>no</td>\n      <td>True</td>\n    </tr>\n    <tr>\n      <th>...</th>\n      <td>...</td>\n      <td>...</td>\n      <td>...</td>\n      <td>...</td>\n      <td>...</td>\n      <td>...</td>\n      <td>...</td>\n      <td>...</td>\n      <td>...</td>\n      <td>...</td>\n      <td>...</td>\n      <td>...</td>\n      <td>...</td>\n      <td>...</td>\n      <td>...</td>\n    </tr>\n    <tr>\n      <th>886</th>\n      <td>0</td>\n      <td>2</td>\n      <td>male</td>\n      <td>27.0</td>\n      <td>0</td>\n      <td>0</td>\n      <td>13.0000</td>\n      <td>S</td>\n      <td>Second</td>\n      <td>man</td>\n      <td>True</td>\n      <td>NaN</td>\n      <td>Southampton</td>\n      <td>no</td>\n      <td>True</td>\n    </tr>\n    <tr>\n      <th>887</th>\n      <td>1</td>\n      <td>1</td>\n      <td>female</td>\n      <td>19.0</td>\n      <td>0</td>\n      <td>0</td>\n      <td>30.0000</td>\n      <td>S</td>\n      <td>First</td>\n      <td>woman</td>\n      <td>False</td>\n      <td>B</td>\n      <td>Southampton</td>\n      <td>yes</td>\n      <td>True</td>\n    </tr>\n    <tr>\n      <th>888</th>\n      <td>0</td>\n      <td>3</td>\n      <td>female</td>\n      <td>NaN</td>\n      <td>1</td>\n      <td>2</td>\n      <td>23.4500</td>\n      <td>S</td>\n      <td>Third</td>\n      <td>woman</td>\n      <td>False</td>\n      <td>NaN</td>\n      <td>Southampton</td>\n      <td>no</td>\n      <td>False</td>\n    </tr>\n    <tr>\n      <th>889</th>\n      <td>1</td>\n      <td>1</td>\n      <td>male</td>\n      <td>26.0</td>\n      <td>0</td>\n      <td>0</td>\n      <td>30.0000</td>\n      <td>C</td>\n      <td>First</td>\n      <td>man</td>\n      <td>True</td>\n      <td>C</td>\n      <td>Cherbourg</td>\n      <td>yes</td>\n      <td>True</td>\n    </tr>\n    <tr>\n      <th>890</th>\n      <td>0</td>\n      <td>3</td>\n      <td>male</td>\n      <td>32.0</td>\n      <td>0</td>\n      <td>0</td>\n      <td>7.7500</td>\n      <td>Q</td>\n      <td>Third</td>\n      <td>man</td>\n      <td>True</td>\n      <td>NaN</td>\n      <td>Queenstown</td>\n      <td>no</td>\n      <td>True</td>\n    </tr>\n  </tbody>\n</table>\n<p>891 rows × 15 columns</p>\n</div>"
     },
     "execution_count": 57,
     "metadata": {},
     "output_type": "execute_result"
    }
   ],
   "source": [
    "titanic"
   ],
   "metadata": {
    "collapsed": false
   }
  },
  {
   "cell_type": "markdown",
   "source": [
    "Looking at missing values data"
   ],
   "metadata": {
    "collapsed": false
   }
  },
  {
   "cell_type": "code",
   "execution_count": 58,
   "outputs": [
    {
     "data": {
      "text/plain": "Text(0.5, 1.0, 'Missing values heatmap')"
     },
     "execution_count": 58,
     "metadata": {},
     "output_type": "execute_result"
    },
    {
     "data": {
      "text/plain": "<Figure size 640x480 with 1 Axes>",
      "image/png": "[encoded data removed]"
     },
     "metadata": {},
     "output_type": "display_data"
    }
   ],
   "source": [
    "titanic.isnull().sum()\n",
    "sns.heatmap(titanic.isnull(), cbar=False).set_title('Missing values heatmap')"
   ],
   "metadata": {
    "collapsed": false
   }
  },
  {
   "cell_type": "markdown",
   "source": [
    "We have 4 attributes that contain missing values - age, embarked, deck, and embark_town"
   ],
   "metadata": {
    "collapsed": false
   }
  },
  {
   "cell_type": "markdown",
   "source": [
    "In order to understand the categorical and non-categorical features we want to look at unique values in each column"
   ],
   "metadata": {
    "collapsed": false
   }
  },
  {
   "cell_type": "code",
   "execution_count": 59,
   "outputs": [
    {
     "data": {
      "text/plain": "survived         2\npclass           3\nsex              2\nage             88\nsibsp            7\nparch            7\nfare           248\nembarked         3\nclass            3\nwho              3\nadult_male       2\ndeck             7\nembark_town      3\nalive            2\nalone            2\ndtype: int64"
     },
     "execution_count": 59,
     "metadata": {},
     "output_type": "execute_result"
    }
   ],
   "source": [
    "titanic.nunique() # nunique gives the number of unique categories in each column"
   ],
   "metadata": {
    "collapsed": false
   }
  },
  {
   "cell_type": "markdown",
   "source": [
    "We can see that people have paid 248 different fares to get on board. Similarly the range for the age attribute is 88"
   ],
   "metadata": {
    "collapsed": false
   }
  },
  {
   "cell_type": "markdown",
   "source": [
    "Now that we have a better understanding of the dataset and we know how many missing data attributes are there and how many unique values each column has, let's try to understand the how each of these features play a part in the survival rate of a passenger"
   ],
   "metadata": {
    "collapsed": false
   }
  },
  {
   "cell_type": "markdown",
   "source": [
    "SURVIVED"
   ],
   "metadata": {
    "collapsed": false
   }
  },
  {
   "cell_type": "code",
   "execution_count": 60,
   "outputs": [
    {
     "data": {
      "text/plain": "0    61.616162\n1    38.383838\nName: survived, dtype: float64"
     },
     "execution_count": 60,
     "metadata": {},
     "output_type": "execute_result"
    }
   ],
   "source": [
    "titanic['survived'].value_counts(normalize=True)*100"
   ],
   "metadata": {
    "collapsed": false
   }
  },
  {
   "cell_type": "markdown",
   "source": [
    "More than 60% of the people onboard did not make it."
   ],
   "metadata": {
    "collapsed": false
   }
  },
  {
   "cell_type": "markdown",
   "source": [
    "PCLASS"
   ],
   "metadata": {
    "collapsed": false
   }
  },
  {
   "cell_type": "code",
   "execution_count": 61,
   "outputs": [
    {
     "data": {
      "text/plain": "3    55.106622\n1    24.242424\n2    20.650954\nName: pclass, dtype: float64"
     },
     "execution_count": 61,
     "metadata": {},
     "output_type": "execute_result"
    }
   ],
   "source": [
    "titanic['pclass'].value_counts(normalize=True)*100"
   ],
   "metadata": {
    "collapsed": false
   }
  },
  {
   "cell_type": "markdown",
   "source": [
    "As expected, highest number of people purchased a class 3 ticket.\n",
    "Let's find a relation between the tiket purchased by a passenger and his/her survival rate"
   ],
   "metadata": {
    "collapsed": false
   }
  },
  {
   "cell_type": "code",
   "execution_count": 62,
   "outputs": [],
   "source": [
    "pclass_survivors = titanic[['survived','pclass']]"
   ],
   "metadata": {
    "collapsed": false
   }
  },
  {
   "cell_type": "code",
   "execution_count": 63,
   "outputs": [
    {
     "data": {
      "text/plain": "        survived\npclass          \n1            136\n2             87\n3            119",
      "text/html": "<div>\n<style scoped>\n    .dataframe tbody tr th:only-of-type {\n        vertical-align: middle;\n    }\n\n    .dataframe tbody tr th {\n        vertical-align: top;\n    }\n\n    .dataframe thead th {\n        text-align: right;\n    }\n</style>\n<table border=\"1\" class=\"dataframe\">\n  <thead>\n    <tr style=\"text-align: right;\">\n      <th></th>\n      <th>survived</th>\n    </tr>\n    <tr>\n      <th>pclass</th>\n      <th></th>\n    </tr>\n  </thead>\n  <tbody>\n    <tr>\n      <th>1</th>\n      <td>136</td>\n    </tr>\n    <tr>\n      <th>2</th>\n      <td>87</td>\n    </tr>\n    <tr>\n      <th>3</th>\n      <td>119</td>\n    </tr>\n  </tbody>\n</table>\n</div>"
     },
     "execution_count": 63,
     "metadata": {},
     "output_type": "execute_result"
    }
   ],
   "source": [
    "pclass_survivors.groupby(['pclass']).sum()"
   ],
   "metadata": {
    "collapsed": false
   }
  },
  {
   "cell_type": "code",
   "execution_count": 64,
   "outputs": [
    {
     "data": {
      "text/plain": "         survived\npclass           \n1       62.962963\n2       47.282609\n3       24.236253",
      "text/html": "<div>\n<style scoped>\n    .dataframe tbody tr th:only-of-type {\n        vertical-align: middle;\n    }\n\n    .dataframe tbody tr th {\n        vertical-align: top;\n    }\n\n    .dataframe thead th {\n        text-align: right;\n    }\n</style>\n<table border=\"1\" class=\"dataframe\">\n  <thead>\n    <tr style=\"text-align: right;\">\n      <th></th>\n      <th>survived</th>\n    </tr>\n    <tr>\n      <th>pclass</th>\n      <th></th>\n    </tr>\n  </thead>\n  <tbody>\n    <tr>\n      <th>1</th>\n      <td>62.962963</td>\n    </tr>\n    <tr>\n      <th>2</th>\n      <td>47.282609</td>\n    </tr>\n    <tr>\n      <th>3</th>\n      <td>24.236253</td>\n    </tr>\n  </tbody>\n</table>\n</div>"
     },
     "execution_count": 64,
     "metadata": {},
     "output_type": "execute_result"
    }
   ],
   "source": [
    "pclass_survivors.groupby(['pclass']).mean()*100"
   ],
   "metadata": {
    "collapsed": false
   }
  },
  {
   "cell_type": "code",
   "execution_count": 65,
   "outputs": [
    {
     "data": {
      "text/plain": "pclass  survived\n1       1           62.962963\n        0           37.037037\n2       0           52.717391\n        1           47.282609\n3       0           75.763747\n        1           24.236253\ndtype: float64"
     },
     "execution_count": 65,
     "metadata": {},
     "output_type": "execute_result"
    }
   ],
   "source": [
    "pclass_survivors.groupby(['pclass']).value_counts(normalize=True)*100"
   ],
   "metadata": {
    "collapsed": false
   }
  },
  {
   "cell_type": "markdown",
   "source": [
    "Class 1 had the highest number of survivors followed by class 2 and class 3"
   ],
   "metadata": {
    "collapsed": false
   }
  },
  {
   "cell_type": "markdown",
   "source": [
    "SEX"
   ],
   "metadata": {
    "collapsed": false
   }
  },
  {
   "cell_type": "code",
   "execution_count": 66,
   "outputs": [
    {
     "data": {
      "text/plain": "sex     survived\nfemale  1           74.203822\n        0           25.796178\nmale    0           81.109185\n        1           18.890815\ndtype: float64"
     },
     "execution_count": 66,
     "metadata": {},
     "output_type": "execute_result"
    }
   ],
   "source": [
    "sex_survival_rate = titanic[['survived','sex']]\n",
    "sex_survival_rate.groupby(['sex']).value_counts(normalize = True)*100"
   ],
   "metadata": {
    "collapsed": false
   }
  },
  {
   "cell_type": "markdown",
   "source": [
    "More than 70% females on board survived in comparison to only 18% males"
   ],
   "metadata": {
    "collapsed": false
   }
  },
  {
   "cell_type": "markdown",
   "source": [
    "AGE"
   ],
   "metadata": {
    "collapsed": false
   }
  },
  {
   "cell_type": "code",
   "execution_count": 67,
   "outputs": [
    {
     "data": {
      "text/plain": "     survived   age\n0           0  22.0\n1           1  38.0\n2           1  26.0\n3           1  35.0\n4           0  35.0\n..        ...   ...\n885         0  39.0\n886         0  27.0\n887         1  19.0\n889         1  26.0\n890         0  32.0\n\n[714 rows x 2 columns]",
      "text/html": "<div>\n<style scoped>\n    .dataframe tbody tr th:only-of-type {\n        vertical-align: middle;\n    }\n\n    .dataframe tbody tr th {\n        vertical-align: top;\n    }\n\n    .dataframe thead th {\n        text-align: right;\n    }\n</style>\n<table border=\"1\" class=\"dataframe\">\n  <thead>\n    <tr style=\"text-align: right;\">\n      <th></th>\n      <th>survived</th>\n      <th>age</th>\n    </tr>\n  </thead>\n  <tbody>\n    <tr>\n      <th>0</th>\n      <td>0</td>\n      <td>22.0</td>\n    </tr>\n    <tr>\n      <th>1</th>\n      <td>1</td>\n      <td>38.0</td>\n    </tr>\n    <tr>\n      <th>2</th>\n      <td>1</td>\n      <td>26.0</td>\n    </tr>\n    <tr>\n      <th>3</th>\n      <td>1</td>\n      <td>35.0</td>\n    </tr>\n    <tr>\n      <th>4</th>\n      <td>0</td>\n      <td>35.0</td>\n    </tr>\n    <tr>\n      <th>...</th>\n      <td>...</td>\n      <td>...</td>\n    </tr>\n    <tr>\n      <th>885</th>\n      <td>0</td>\n      <td>39.0</td>\n    </tr>\n    <tr>\n      <th>886</th>\n      <td>0</td>\n      <td>27.0</td>\n    </tr>\n    <tr>\n      <th>887</th>\n      <td>1</td>\n      <td>19.0</td>\n    </tr>\n    <tr>\n      <th>889</th>\n      <td>1</td>\n      <td>26.0</td>\n    </tr>\n    <tr>\n      <th>890</th>\n      <td>0</td>\n      <td>32.0</td>\n    </tr>\n  </tbody>\n</table>\n<p>714 rows × 2 columns</p>\n</div>"
     },
     "execution_count": 67,
     "metadata": {},
     "output_type": "execute_result"
    }
   ],
   "source": [
    "age_survival = titanic[['survived','age']]\n",
    "age_survival.dropna()"
   ],
   "metadata": {
    "collapsed": false
   }
  },
  {
   "cell_type": "code",
   "execution_count": 68,
   "outputs": [
    {
     "data": {
      "text/plain": "count    714.000000\nmean      29.699118\nstd       14.526497\nmin        0.420000\n25%       20.125000\n50%       28.000000\n75%       38.000000\nmax       80.000000\nName: age, dtype: float64"
     },
     "execution_count": 68,
     "metadata": {},
     "output_type": "execute_result"
    }
   ],
   "source": [
    "age_survival['age'].describe()"
   ],
   "metadata": {
    "collapsed": false
   }
  },
  {
   "cell_type": "code",
   "execution_count": 69,
   "outputs": [
    {
     "data": {
      "text/plain": "(20.125, 28.0]     25.630252\n(0.419, 20.125]    25.070028\n(38.0, 80.0]       24.789916\n(28.0, 38.0]       24.509804\nName: age, dtype: float64"
     },
     "execution_count": 69,
     "metadata": {},
     "output_type": "execute_result"
    }
   ],
   "source": [
    "quantile_ex1 = pd.qcut(age_survival['age'],q=4)\n",
    "quantile_ex1.value_counts(normalize=True)*100\n",
    "# This result should be invalid because qcut puts equal number of elements in each bin\n",
    "# THIS IS WRONG"
   ],
   "metadata": {
    "collapsed": false
   }
  },
  {
   "cell_type": "code",
   "execution_count": 70,
   "outputs": [
    {
     "data": {
      "text/plain": "(20.315, 40.21]    53.921569\n(0.34, 20.315]     25.070028\n(40.21, 60.105]    17.927171\n(60.105, 80.0]      3.081232\nName: age, dtype: float64"
     },
     "execution_count": 70,
     "metadata": {},
     "output_type": "execute_result"
    }
   ],
   "source": [
    "#WRONG\n",
    "quantile_ex1 = pd.cut(age_survival['age'],bins=4)\n",
    "quantile_ex1.value_counts(normalize=True)*100"
   ],
   "metadata": {
    "collapsed": false
   }
  },
  {
   "cell_type": "markdown",
   "source": [
    "53% passengers on board belonged to the age group 20-40"
   ],
   "metadata": {
    "collapsed": false
   }
  },
  {
   "cell_type": "code",
   "execution_count": 71,
   "outputs": [
    {
     "data": {
      "text/plain": "     survived   age\n1           1  38.0\n2           1  26.0\n3           1  35.0\n8           1  27.0\n9           1  14.0\n..        ...   ...\n875         1  15.0\n879         1  56.0\n880         1  25.0\n887         1  19.0\n889         1  26.0\n\n[290 rows x 2 columns]",
      "text/html": "<div>\n<style scoped>\n    .dataframe tbody tr th:only-of-type {\n        vertical-align: middle;\n    }\n\n    .dataframe tbody tr th {\n        vertical-align: top;\n    }\n\n    .dataframe thead th {\n        text-align: right;\n    }\n</style>\n<table border=\"1\" class=\"dataframe\">\n  <thead>\n    <tr style=\"text-align: right;\">\n      <th></th>\n      <th>survived</th>\n      <th>age</th>\n    </tr>\n  </thead>\n  <tbody>\n    <tr>\n      <th>1</th>\n      <td>1</td>\n      <td>38.0</td>\n    </tr>\n    <tr>\n      <th>2</th>\n      <td>1</td>\n      <td>26.0</td>\n    </tr>\n    <tr>\n      <th>3</th>\n      <td>1</td>\n      <td>35.0</td>\n    </tr>\n    <tr>\n      <th>8</th>\n      <td>1</td>\n      <td>27.0</td>\n    </tr>\n    <tr>\n      <th>9</th>\n      <td>1</td>\n      <td>14.0</td>\n    </tr>\n    <tr>\n      <th>...</th>\n      <td>...</td>\n      <td>...</td>\n    </tr>\n    <tr>\n      <th>875</th>\n      <td>1</td>\n      <td>15.0</td>\n    </tr>\n    <tr>\n      <th>879</th>\n      <td>1</td>\n      <td>56.0</td>\n    </tr>\n    <tr>\n      <th>880</th>\n      <td>1</td>\n      <td>25.0</td>\n    </tr>\n    <tr>\n      <th>887</th>\n      <td>1</td>\n      <td>19.0</td>\n    </tr>\n    <tr>\n      <th>889</th>\n      <td>1</td>\n      <td>26.0</td>\n    </tr>\n  </tbody>\n</table>\n<p>290 rows × 2 columns</p>\n</div>"
     },
     "execution_count": 71,
     "metadata": {},
     "output_type": "execute_result"
    }
   ],
   "source": [
    "#WRONG\n",
    "age_survival = titanic[['survived','age']]\n",
    "age_survival = age_survival.loc[age_survival['survived']==1]\n",
    "age_survival = age_survival.dropna()\n",
    "age_survival"
   ],
   "metadata": {
    "collapsed": false
   }
  },
  {
   "cell_type": "code",
   "execution_count": 72,
   "outputs": [
    {
     "data": {
      "text/plain": "(20.315, 40.21]    52.758621\n(0.34, 20.315]     28.275862\n(40.21, 60.105]    17.241379\n(60.105, 80.0]      1.724138\nName: age, dtype: float64"
     },
     "execution_count": 72,
     "metadata": {},
     "output_type": "execute_result"
    }
   ],
   "source": [
    "#WRONG\n",
    "quantile_ex1 = pd.cut(age_survival['age'],bins=4)\n",
    "quantile_ex1.value_counts(normalize=True)*100"
   ],
   "metadata": {
    "collapsed": false
   }
  },
  {
   "cell_type": "markdown",
   "source": [
    "**CHECK**"
   ],
   "metadata": {
    "collapsed": false
   }
  },
  {
   "cell_type": "markdown",
   "source": [
    "### Problem 3\n",
    "TODO1: Plot a stacked bar chart to show the number of forest fires grouped by months and days of the week. (Make sure the month are in Months chronological order i.e attribute values are sorted starting with January and ending with December)\n",
    "**Hint:** Before creating the bar chart, use aforementioned data aggregation tools to transform the original dataset to the data frame you need for this section. To be more specific, you need to compute the count of forest fires by months and days before plotting."
   ],
   "metadata": {
    "collapsed": false
   }
  },
  {
   "cell_type": "code",
   "execution_count": 73,
   "outputs": [
    {
     "data": {
      "text/plain": "     X  Y month  day  FFMC    DMC     DC   ISI  temp  RH  wind  rain   area\n0    7  5   mar  fri  86.2   26.2   94.3   5.1   8.2  51   6.7   0.0   0.00\n1    7  4   oct  tue  90.6   35.4  669.1   6.7  18.0  33   0.9   0.0   0.00\n2    7  4   oct  sat  90.6   43.7  686.9   6.7  14.6  33   1.3   0.0   0.00\n3    8  6   mar  fri  91.7   33.3   77.5   9.0   8.3  97   4.0   0.2   0.00\n4    8  6   mar  sun  89.3   51.3  102.2   9.6  11.4  99   1.8   0.0   0.00\n..  .. ..   ...  ...   ...    ...    ...   ...   ...  ..   ...   ...    ...\n512  4  3   aug  sun  81.6   56.7  665.6   1.9  27.8  32   2.7   0.0   6.44\n513  2  4   aug  sun  81.6   56.7  665.6   1.9  21.9  71   5.8   0.0  54.29\n514  7  4   aug  sun  81.6   56.7  665.6   1.9  21.2  70   6.7   0.0  11.16\n515  1  4   aug  sat  94.4  146.0  614.7  11.3  25.6  42   4.0   0.0   0.00\n516  6  3   nov  tue  79.5    3.0  106.7   1.1  11.8  31   4.5   0.0   0.00\n\n[517 rows x 13 columns]",
      "text/html": "<div>\n<style scoped>\n    .dataframe tbody tr th:only-of-type {\n        vertical-align: middle;\n    }\n\n    .dataframe tbody tr th {\n        vertical-align: top;\n    }\n\n    .dataframe thead th {\n        text-align: right;\n    }\n</style>\n<table border=\"1\" class=\"dataframe\">\n  <thead>\n    <tr style=\"text-align: right;\">\n      <th></th>\n      <th>X</th>\n      <th>Y</th>\n      <th>month</th>\n      <th>day</th>\n      <th>FFMC</th>\n      <th>DMC</th>\n      <th>DC</th>\n      <th>ISI</th>\n      <th>temp</th>\n      <th>RH</th>\n      <th>wind</th>\n      <th>rain</th>\n      <th>area</th>\n    </tr>\n  </thead>\n  <tbody>\n    <tr>\n      <th>0</th>\n      <td>7</td>\n      <td>5</td>\n      <td>mar</td>\n      <td>fri</td>\n      <td>86.2</td>\n      <td>26.2</td>\n      <td>94.3</td>\n      <td>5.1</td>\n      <td>8.2</td>\n      <td>51</td>\n      <td>6.7</td>\n      <td>0.0</td>\n      <td>0.00</td>\n    </tr>\n    <tr>\n      <th>1</th>\n      <td>7</td>\n      <td>4</td>\n      <td>oct</td>\n      <td>tue</td>\n      <td>90.6</td>\n      <td>35.4</td>\n      <td>669.1</td>\n      <td>6.7</td>\n      <td>18.0</td>\n      <td>33</td>\n      <td>0.9</td>\n      <td>0.0</td>\n      <td>0.00</td>\n    </tr>\n    <tr>\n      <th>2</th>\n      <td>7</td>\n      <td>4</td>\n      <td>oct</td>\n      <td>sat</td>\n      <td>90.6</td>\n      <td>43.7</td>\n      <td>686.9</td>\n      <td>6.7</td>\n      <td>14.6</td>\n      <td>33</td>\n      <td>1.3</td>\n      <td>0.0</td>\n      <td>0.00</td>\n    </tr>\n    <tr>\n      <th>3</th>\n      <td>8</td>\n      <td>6</td>\n      <td>mar</td>\n      <td>fri</td>\n      <td>91.7</td>\n      <td>33.3</td>\n      <td>77.5</td>\n      <td>9.0</td>\n      <td>8.3</td>\n      <td>97</td>\n      <td>4.0</td>\n      <td>0.2</td>\n      <td>0.00</td>\n    </tr>\n    <tr>\n      <th>4</th>\n      <td>8</td>\n      <td>6</td>\n      <td>mar</td>\n      <td>sun</td>\n      <td>89.3</td>\n      <td>51.3</td>\n      <td>102.2</td>\n      <td>9.6</td>\n      <td>11.4</td>\n      <td>99</td>\n      <td>1.8</td>\n      <td>0.0</td>\n      <td>0.00</td>\n    </tr>\n    <tr>\n      <th>...</th>\n      <td>...</td>\n      <td>...</td>\n      <td>...</td>\n      <td>...</td>\n      <td>...</td>\n      <td>...</td>\n      <td>...</td>\n      <td>...</td>\n      <td>...</td>\n      <td>...</td>\n      <td>...</td>\n      <td>...</td>\n      <td>...</td>\n    </tr>\n    <tr>\n      <th>512</th>\n      <td>4</td>\n      <td>3</td>\n      <td>aug</td>\n      <td>sun</td>\n      <td>81.6</td>\n      <td>56.7</td>\n      <td>665.6</td>\n      <td>1.9</td>\n      <td>27.8</td>\n      <td>32</td>\n      <td>2.7</td>\n      <td>0.0</td>\n      <td>6.44</td>\n    </tr>\n    <tr>\n      <th>513</th>\n      <td>2</td>\n      <td>4</td>\n      <td>aug</td>\n      <td>sun</td>\n      <td>81.6</td>\n      <td>56.7</td>\n      <td>665.6</td>\n      <td>1.9</td>\n      <td>21.9</td>\n      <td>71</td>\n      <td>5.8</td>\n      <td>0.0</td>\n      <td>54.29</td>\n    </tr>\n    <tr>\n      <th>514</th>\n      <td>7</td>\n      <td>4</td>\n      <td>aug</td>\n      <td>sun</td>\n      <td>81.6</td>\n      <td>56.7</td>\n      <td>665.6</td>\n      <td>1.9</td>\n      <td>21.2</td>\n      <td>70</td>\n      <td>6.7</td>\n      <td>0.0</td>\n      <td>11.16</td>\n    </tr>\n    <tr>\n      <th>515</th>\n      <td>1</td>\n      <td>4</td>\n      <td>aug</td>\n      <td>sat</td>\n      <td>94.4</td>\n      <td>146.0</td>\n      <td>614.7</td>\n      <td>11.3</td>\n      <td>25.6</td>\n      <td>42</td>\n      <td>4.0</td>\n      <td>0.0</td>\n      <td>0.00</td>\n    </tr>\n    <tr>\n      <th>516</th>\n      <td>6</td>\n      <td>3</td>\n      <td>nov</td>\n      <td>tue</td>\n      <td>79.5</td>\n      <td>3.0</td>\n      <td>106.7</td>\n      <td>1.1</td>\n      <td>11.8</td>\n      <td>31</td>\n      <td>4.5</td>\n      <td>0.0</td>\n      <td>0.00</td>\n    </tr>\n  </tbody>\n</table>\n<p>517 rows × 13 columns</p>\n</div>"
     },
     "execution_count": 73,
     "metadata": {},
     "output_type": "execute_result"
    }
   ],
   "source": [
    "forest = pd.read_csv('forestfires.csv')\n",
    "forest"
   ],
   "metadata": {
    "collapsed": false
   }
  },
  {
   "cell_type": "code",
   "execution_count": 74,
   "outputs": [],
   "source": [
    "import matplotlib.pyplot as plt\n",
    "plt.style.use('ggplot')"
   ],
   "metadata": {
    "collapsed": false
   }
  },
  {
   "cell_type": "code",
   "execution_count": 75,
   "outputs": [
    {
     "data": {
      "text/plain": "(517, 13)"
     },
     "execution_count": 75,
     "metadata": {},
     "output_type": "execute_result"
    }
   ],
   "source": [
    "forest.shape"
   ],
   "metadata": {
    "collapsed": false
   }
  },
  {
   "cell_type": "code",
   "execution_count": 76,
   "outputs": [
    {
     "data": {
      "text/plain": "X          int64\nY          int64\nmonth     object\nday       object\nFFMC     float64\nDMC      float64\nDC       float64\nISI      float64\ntemp     float64\nRH         int64\nwind     float64\nrain     float64\narea     float64\ndtype: object"
     },
     "execution_count": 76,
     "metadata": {},
     "output_type": "execute_result"
    }
   ],
   "source": [
    "forest.dtypes"
   ],
   "metadata": {
    "collapsed": false
   }
  },
  {
   "cell_type": "code",
   "execution_count": 77,
   "outputs": [
    {
     "data": {
      "text/plain": "                X           Y        FFMC         DMC          DC         ISI  \\\ncount  517.000000  517.000000  517.000000  517.000000  517.000000  517.000000   \nmean     4.669246    4.299807   90.644681  110.872340  547.940039    9.021663   \nstd      2.313778    1.229900    5.520111   64.046482  248.066192    4.559477   \nmin      1.000000    2.000000   18.700000    1.100000    7.900000    0.000000   \n25%      3.000000    4.000000   90.200000   68.600000  437.700000    6.500000   \n50%      4.000000    4.000000   91.600000  108.300000  664.200000    8.400000   \n75%      7.000000    5.000000   92.900000  142.400000  713.900000   10.800000   \nmax      9.000000    9.000000   96.200000  291.300000  860.600000   56.100000   \n\n             temp          RH        wind        rain         area  \ncount  517.000000  517.000000  517.000000  517.000000   517.000000  \nmean    18.889168   44.288201    4.017602    0.021663    12.847292  \nstd      5.806625   16.317469    1.791653    0.295959    63.655818  \nmin      2.200000   15.000000    0.400000    0.000000     0.000000  \n25%     15.500000   33.000000    2.700000    0.000000     0.000000  \n50%     19.300000   42.000000    4.000000    0.000000     0.520000  \n75%     22.800000   53.000000    4.900000    0.000000     6.570000  \nmax     33.300000  100.000000    9.400000    6.400000  1090.840000  ",
      "text/html": "<div>\n<style scoped>\n    .dataframe tbody tr th:only-of-type {\n        vertical-align: middle;\n    }\n\n    .dataframe tbody tr th {\n        vertical-align: top;\n    }\n\n    .dataframe thead th {\n        text-align: right;\n    }\n</style>\n<table border=\"1\" class=\"dataframe\">\n  <thead>\n    <tr style=\"text-align: right;\">\n      <th></th>\n      <th>X</th>\n      <th>Y</th>\n      <th>FFMC</th>\n      <th>DMC</th>\n      <th>DC</th>\n      <th>ISI</th>\n      <th>temp</th>\n      <th>RH</th>\n      <th>wind</th>\n      <th>rain</th>\n      <th>area</th>\n    </tr>\n  </thead>\n  <tbody>\n    <tr>\n      <th>count</th>\n      <td>517.000000</td>\n      <td>517.000000</td>\n      <td>517.000000</td>\n      <td>517.000000</td>\n      <td>517.000000</td>\n      <td>517.000000</td>\n      <td>517.000000</td>\n      <td>517.000000</td>\n      <td>517.000000</td>\n      <td>517.000000</td>\n      <td>517.000000</td>\n    </tr>\n    <tr>\n      <th>mean</th>\n      <td>4.669246</td>\n      <td>4.299807</td>\n      <td>90.644681</td>\n      <td>110.872340</td>\n      <td>547.940039</td>\n      <td>9.021663</td>\n      <td>18.889168</td>\n      <td>44.288201</td>\n      <td>4.017602</td>\n      <td>0.021663</td>\n      <td>12.847292</td>\n    </tr>\n    <tr>\n      <th>std</th>\n      <td>2.313778</td>\n      <td>1.229900</td>\n      <td>5.520111</td>\n      <td>64.046482</td>\n      <td>248.066192</td>\n      <td>4.559477</td>\n      <td>5.806625</td>\n      <td>16.317469</td>\n      <td>1.791653</td>\n      <td>0.295959</td>\n      <td>63.655818</td>\n    </tr>\n    <tr>\n      <th>min</th>\n      <td>1.000000</td>\n      <td>2.000000</td>\n      <td>18.700000</td>\n      <td>1.100000</td>\n      <td>7.900000</td>\n      <td>0.000000</td>\n      <td>2.200000</td>\n      <td>15.000000</td>\n      <td>0.400000</td>\n      <td>0.000000</td>\n      <td>0.000000</td>\n    </tr>\n    <tr>\n      <th>25%</th>\n      <td>3.000000</td>\n      <td>4.000000</td>\n      <td>90.200000</td>\n      <td>68.600000</td>\n      <td>437.700000</td>\n      <td>6.500000</td>\n      <td>15.500000</td>\n      <td>33.000000</td>\n      <td>2.700000</td>\n      <td>0.000000</td>\n      <td>0.000000</td>\n    </tr>\n    <tr>\n      <th>50%</th>\n      <td>4.000000</td>\n      <td>4.000000</td>\n      <td>91.600000</td>\n      <td>108.300000</td>\n      <td>664.200000</td>\n      <td>8.400000</td>\n      <td>19.300000</td>\n      <td>42.000000</td>\n      <td>4.000000</td>\n      <td>0.000000</td>\n      <td>0.520000</td>\n    </tr>\n    <tr>\n      <th>75%</th>\n      <td>7.000000</td>\n      <td>5.000000</td>\n      <td>92.900000</td>\n      <td>142.400000</td>\n      <td>713.900000</td>\n      <td>10.800000</td>\n      <td>22.800000</td>\n      <td>53.000000</td>\n      <td>4.900000</td>\n      <td>0.000000</td>\n      <td>6.570000</td>\n    </tr>\n    <tr>\n      <th>max</th>\n      <td>9.000000</td>\n      <td>9.000000</td>\n      <td>96.200000</td>\n      <td>291.300000</td>\n      <td>860.600000</td>\n      <td>56.100000</td>\n      <td>33.300000</td>\n      <td>100.000000</td>\n      <td>9.400000</td>\n      <td>6.400000</td>\n      <td>1090.840000</td>\n    </tr>\n  </tbody>\n</table>\n</div>"
     },
     "execution_count": 77,
     "metadata": {},
     "output_type": "execute_result"
    }
   ],
   "source": [
    "forest.describe()"
   ],
   "metadata": {
    "collapsed": false
   }
  },
  {
   "cell_type": "code",
   "execution_count": 78,
   "outputs": [
    {
     "data": {
      "text/plain": "      count        mean         std   min    25%     50%     75%      max\nX     517.0    4.669246    2.313778   1.0    3.0    4.00    7.00     9.00\nY     517.0    4.299807    1.229900   2.0    4.0    4.00    5.00     9.00\nFFMC  517.0   90.644681    5.520111  18.7   90.2   91.60   92.90    96.20\nDMC   517.0  110.872340   64.046482   1.1   68.6  108.30  142.40   291.30\nDC    517.0  547.940039  248.066192   7.9  437.7  664.20  713.90   860.60\nISI   517.0    9.021663    4.559477   0.0    6.5    8.40   10.80    56.10\ntemp  517.0   18.889168    5.806625   2.2   15.5   19.30   22.80    33.30\nRH    517.0   44.288201   16.317469  15.0   33.0   42.00   53.00   100.00\nwind  517.0    4.017602    1.791653   0.4    2.7    4.00    4.90     9.40\nrain  517.0    0.021663    0.295959   0.0    0.0    0.00    0.00     6.40\narea  517.0   12.847292   63.655818   0.0    0.0    0.52    6.57  1090.84",
      "text/html": "<div>\n<style scoped>\n    .dataframe tbody tr th:only-of-type {\n        vertical-align: middle;\n    }\n\n    .dataframe tbody tr th {\n        vertical-align: top;\n    }\n\n    .dataframe thead th {\n        text-align: right;\n    }\n</style>\n<table border=\"1\" class=\"dataframe\">\n  <thead>\n    <tr style=\"text-align: right;\">\n      <th></th>\n      <th>count</th>\n      <th>mean</th>\n      <th>std</th>\n      <th>min</th>\n      <th>25%</th>\n      <th>50%</th>\n      <th>75%</th>\n      <th>max</th>\n    </tr>\n  </thead>\n  <tbody>\n    <tr>\n      <th>X</th>\n      <td>517.0</td>\n      <td>4.669246</td>\n      <td>2.313778</td>\n      <td>1.0</td>\n      <td>3.0</td>\n      <td>4.00</td>\n      <td>7.00</td>\n      <td>9.00</td>\n    </tr>\n    <tr>\n      <th>Y</th>\n      <td>517.0</td>\n      <td>4.299807</td>\n      <td>1.229900</td>\n      <td>2.0</td>\n      <td>4.0</td>\n      <td>4.00</td>\n      <td>5.00</td>\n      <td>9.00</td>\n    </tr>\n    <tr>\n      <th>FFMC</th>\n      <td>517.0</td>\n      <td>90.644681</td>\n      <td>5.520111</td>\n      <td>18.7</td>\n      <td>90.2</td>\n      <td>91.60</td>\n      <td>92.90</td>\n      <td>96.20</td>\n    </tr>\n    <tr>\n      <th>DMC</th>\n      <td>517.0</td>\n      <td>110.872340</td>\n      <td>64.046482</td>\n      <td>1.1</td>\n      <td>68.6</td>\n      <td>108.30</td>\n      <td>142.40</td>\n      <td>291.30</td>\n    </tr>\n    <tr>\n      <th>DC</th>\n      <td>517.0</td>\n      <td>547.940039</td>\n      <td>248.066192</td>\n      <td>7.9</td>\n      <td>437.7</td>\n      <td>664.20</td>\n      <td>713.90</td>\n      <td>860.60</td>\n    </tr>\n    <tr>\n      <th>ISI</th>\n      <td>517.0</td>\n      <td>9.021663</td>\n      <td>4.559477</td>\n      <td>0.0</td>\n      <td>6.5</td>\n      <td>8.40</td>\n      <td>10.80</td>\n      <td>56.10</td>\n    </tr>\n    <tr>\n      <th>temp</th>\n      <td>517.0</td>\n      <td>18.889168</td>\n      <td>5.806625</td>\n      <td>2.2</td>\n      <td>15.5</td>\n      <td>19.30</td>\n      <td>22.80</td>\n      <td>33.30</td>\n    </tr>\n    <tr>\n      <th>RH</th>\n      <td>517.0</td>\n      <td>44.288201</td>\n      <td>16.317469</td>\n      <td>15.0</td>\n      <td>33.0</td>\n      <td>42.00</td>\n      <td>53.00</td>\n      <td>100.00</td>\n    </tr>\n    <tr>\n      <th>wind</th>\n      <td>517.0</td>\n      <td>4.017602</td>\n      <td>1.791653</td>\n      <td>0.4</td>\n      <td>2.7</td>\n      <td>4.00</td>\n      <td>4.90</td>\n      <td>9.40</td>\n    </tr>\n    <tr>\n      <th>rain</th>\n      <td>517.0</td>\n      <td>0.021663</td>\n      <td>0.295959</td>\n      <td>0.0</td>\n      <td>0.0</td>\n      <td>0.00</td>\n      <td>0.00</td>\n      <td>6.40</td>\n    </tr>\n    <tr>\n      <th>area</th>\n      <td>517.0</td>\n      <td>12.847292</td>\n      <td>63.655818</td>\n      <td>0.0</td>\n      <td>0.0</td>\n      <td>0.52</td>\n      <td>6.57</td>\n      <td>1090.84</td>\n    </tr>\n  </tbody>\n</table>\n</div>"
     },
     "execution_count": 78,
     "metadata": {},
     "output_type": "execute_result"
    }
   ],
   "source": [
    "forest.describe().T"
   ],
   "metadata": {
    "collapsed": false
   }
  },
  {
   "cell_type": "code",
   "execution_count": 79,
   "outputs": [
    {
     "data": {
      "text/plain": "         X      Y  month    day   FFMC    DMC     DC    ISI   temp     RH  \\\n0    False  False  False  False  False  False  False  False  False  False   \n1    False  False  False  False  False  False  False  False  False  False   \n2    False  False  False  False  False  False  False  False  False  False   \n3    False  False  False  False  False  False  False  False  False  False   \n4    False  False  False  False  False  False  False  False  False  False   \n..     ...    ...    ...    ...    ...    ...    ...    ...    ...    ...   \n512  False  False  False  False  False  False  False  False  False  False   \n513  False  False  False  False  False  False  False  False  False  False   \n514  False  False  False  False  False  False  False  False  False  False   \n515  False  False  False  False  False  False  False  False  False  False   \n516  False  False  False  False  False  False  False  False  False  False   \n\n      wind   rain   area  \n0    False  False  False  \n1    False  False  False  \n2    False  False  False  \n3    False  False  False  \n4    False  False  False  \n..     ...    ...    ...  \n512  False  False  False  \n513  False  False  False  \n514  False  False  False  \n515  False  False  False  \n516  False  False  False  \n\n[517 rows x 13 columns]",
      "text/html": "<div>\n<style scoped>\n    .dataframe tbody tr th:only-of-type {\n        vertical-align: middle;\n    }\n\n    .dataframe tbody tr th {\n        vertical-align: top;\n    }\n\n    .dataframe thead th {\n        text-align: right;\n    }\n</style>\n<table border=\"1\" class=\"dataframe\">\n  <thead>\n    <tr style=\"text-align: right;\">\n      <th></th>\n      <th>X</th>\n      <th>Y</th>\n      <th>month</th>\n      <th>day</th>\n      <th>FFMC</th>\n      <th>DMC</th>\n      <th>DC</th>\n      <th>ISI</th>\n      <th>temp</th>\n      <th>RH</th>\n      <th>wind</th>\n      <th>rain</th>\n      <th>area</th>\n    </tr>\n  </thead>\n  <tbody>\n    <tr>\n      <th>0</th>\n      <td>False</td>\n      <td>False</td>\n      <td>False</td>\n      <td>False</td>\n      <td>False</td>\n      <td>False</td>\n      <td>False</td>\n      <td>False</td>\n      <td>False</td>\n      <td>False</td>\n      <td>False</td>\n      <td>False</td>\n      <td>False</td>\n    </tr>\n    <tr>\n      <th>1</th>\n      <td>False</td>\n      <td>False</td>\n      <td>False</td>\n      <td>False</td>\n      <td>False</td>\n      <td>False</td>\n      <td>False</td>\n      <td>False</td>\n      <td>False</td>\n      <td>False</td>\n      <td>False</td>\n      <td>False</td>\n      <td>False</td>\n    </tr>\n    <tr>\n      <th>2</th>\n      <td>False</td>\n      <td>False</td>\n      <td>False</td>\n      <td>False</td>\n      <td>False</td>\n      <td>False</td>\n      <td>False</td>\n      <td>False</td>\n      <td>False</td>\n      <td>False</td>\n      <td>False</td>\n      <td>False</td>\n      <td>False</td>\n    </tr>\n    <tr>\n      <th>3</th>\n      <td>False</td>\n      <td>False</td>\n      <td>False</td>\n      <td>False</td>\n      <td>False</td>\n      <td>False</td>\n      <td>False</td>\n      <td>False</td>\n      <td>False</td>\n      <td>False</td>\n      <td>False</td>\n      <td>False</td>\n      <td>False</td>\n    </tr>\n    <tr>\n      <th>4</th>\n      <td>False</td>\n      <td>False</td>\n      <td>False</td>\n      <td>False</td>\n      <td>False</td>\n      <td>False</td>\n      <td>False</td>\n      <td>False</td>\n      <td>False</td>\n      <td>False</td>\n      <td>False</td>\n      <td>False</td>\n      <td>False</td>\n    </tr>\n    <tr>\n      <th>...</th>\n      <td>...</td>\n      <td>...</td>\n      <td>...</td>\n      <td>...</td>\n      <td>...</td>\n      <td>...</td>\n      <td>...</td>\n      <td>...</td>\n      <td>...</td>\n      <td>...</td>\n      <td>...</td>\n      <td>...</td>\n      <td>...</td>\n    </tr>\n    <tr>\n      <th>512</th>\n      <td>False</td>\n      <td>False</td>\n      <td>False</td>\n      <td>False</td>\n      <td>False</td>\n      <td>False</td>\n      <td>False</td>\n      <td>False</td>\n      <td>False</td>\n      <td>False</td>\n      <td>False</td>\n      <td>False</td>\n      <td>False</td>\n    </tr>\n    <tr>\n      <th>513</th>\n      <td>False</td>\n      <td>False</td>\n      <td>False</td>\n      <td>False</td>\n      <td>False</td>\n      <td>False</td>\n      <td>False</td>\n      <td>False</td>\n      <td>False</td>\n      <td>False</td>\n      <td>False</td>\n      <td>False</td>\n      <td>False</td>\n    </tr>\n    <tr>\n      <th>514</th>\n      <td>False</td>\n      <td>False</td>\n      <td>False</td>\n      <td>False</td>\n      <td>False</td>\n      <td>False</td>\n      <td>False</td>\n      <td>False</td>\n      <td>False</td>\n      <td>False</td>\n      <td>False</td>\n      <td>False</td>\n      <td>False</td>\n    </tr>\n    <tr>\n      <th>515</th>\n      <td>False</td>\n      <td>False</td>\n      <td>False</td>\n      <td>False</td>\n      <td>False</td>\n      <td>False</td>\n      <td>False</td>\n      <td>False</td>\n      <td>False</td>\n      <td>False</td>\n      <td>False</td>\n      <td>False</td>\n      <td>False</td>\n    </tr>\n    <tr>\n      <th>516</th>\n      <td>False</td>\n      <td>False</td>\n      <td>False</td>\n      <td>False</td>\n      <td>False</td>\n      <td>False</td>\n      <td>False</td>\n      <td>False</td>\n      <td>False</td>\n      <td>False</td>\n      <td>False</td>\n      <td>False</td>\n      <td>False</td>\n    </tr>\n  </tbody>\n</table>\n<p>517 rows × 13 columns</p>\n</div>"
     },
     "execution_count": 79,
     "metadata": {},
     "output_type": "execute_result"
    }
   ],
   "source": [
    "forest.isna()"
   ],
   "metadata": {
    "collapsed": false
   }
  },
  {
   "cell_type": "code",
   "execution_count": 80,
   "outputs": [
    {
     "data": {
      "text/plain": "X        0\nY        0\nmonth    0\nday      0\nFFMC     0\nDMC      0\nDC       0\nISI      0\ntemp     0\nRH       0\nwind     0\nrain     0\narea     0\ndtype: int64"
     },
     "execution_count": 80,
     "metadata": {},
     "output_type": "execute_result"
    }
   ],
   "source": [
    "forest.isna().sum()"
   ],
   "metadata": {
    "collapsed": false
   }
  },
  {
   "cell_type": "code",
   "execution_count": 81,
   "outputs": [
    {
     "data": {
      "text/plain": "0"
     },
     "execution_count": 81,
     "metadata": {},
     "output_type": "execute_result"
    }
   ],
   "source": [
    "forest.isna().sum().sum()"
   ],
   "metadata": {
    "collapsed": false
   }
  },
  {
   "cell_type": "code",
   "execution_count": 82,
   "outputs": [
    {
     "data": {
      "text/plain": "     X  Y month  day  FFMC    DMC     DC   ISI  temp  RH  wind  rain   area\n0    7  5   mar  fri  86.2   26.2   94.3   5.1   8.2  51   6.7   0.0   0.00\n1    7  4   oct  tue  90.6   35.4  669.1   6.7  18.0  33   0.9   0.0   0.00\n2    7  4   oct  sat  90.6   43.7  686.9   6.7  14.6  33   1.3   0.0   0.00\n3    8  6   mar  fri  91.7   33.3   77.5   9.0   8.3  97   4.0   0.2   0.00\n4    8  6   mar  sun  89.3   51.3  102.2   9.6  11.4  99   1.8   0.0   0.00\n..  .. ..   ...  ...   ...    ...    ...   ...   ...  ..   ...   ...    ...\n512  4  3   aug  sun  81.6   56.7  665.6   1.9  27.8  32   2.7   0.0   6.44\n513  2  4   aug  sun  81.6   56.7  665.6   1.9  21.9  71   5.8   0.0  54.29\n514  7  4   aug  sun  81.6   56.7  665.6   1.9  21.2  70   6.7   0.0  11.16\n515  1  4   aug  sat  94.4  146.0  614.7  11.3  25.6  42   4.0   0.0   0.00\n516  6  3   nov  tue  79.5    3.0  106.7   1.1  11.8  31   4.5   0.0   0.00\n\n[517 rows x 13 columns]",
      "text/html": "<div>\n<style scoped>\n    .dataframe tbody tr th:only-of-type {\n        vertical-align: middle;\n    }\n\n    .dataframe tbody tr th {\n        vertical-align: top;\n    }\n\n    .dataframe thead th {\n        text-align: right;\n    }\n</style>\n<table border=\"1\" class=\"dataframe\">\n  <thead>\n    <tr style=\"text-align: right;\">\n      <th></th>\n      <th>X</th>\n      <th>Y</th>\n      <th>month</th>\n      <th>day</th>\n      <th>FFMC</th>\n      <th>DMC</th>\n      <th>DC</th>\n      <th>ISI</th>\n      <th>temp</th>\n      <th>RH</th>\n      <th>wind</th>\n      <th>rain</th>\n      <th>area</th>\n    </tr>\n  </thead>\n  <tbody>\n    <tr>\n      <th>0</th>\n      <td>7</td>\n      <td>5</td>\n      <td>mar</td>\n      <td>fri</td>\n      <td>86.2</td>\n      <td>26.2</td>\n      <td>94.3</td>\n      <td>5.1</td>\n      <td>8.2</td>\n      <td>51</td>\n      <td>6.7</td>\n      <td>0.0</td>\n      <td>0.00</td>\n    </tr>\n    <tr>\n      <th>1</th>\n      <td>7</td>\n      <td>4</td>\n      <td>oct</td>\n      <td>tue</td>\n      <td>90.6</td>\n      <td>35.4</td>\n      <td>669.1</td>\n      <td>6.7</td>\n      <td>18.0</td>\n      <td>33</td>\n      <td>0.9</td>\n      <td>0.0</td>\n      <td>0.00</td>\n    </tr>\n    <tr>\n      <th>2</th>\n      <td>7</td>\n      <td>4</td>\n      <td>oct</td>\n      <td>sat</td>\n      <td>90.6</td>\n      <td>43.7</td>\n      <td>686.9</td>\n      <td>6.7</td>\n      <td>14.6</td>\n      <td>33</td>\n      <td>1.3</td>\n      <td>0.0</td>\n      <td>0.00</td>\n    </tr>\n    <tr>\n      <th>3</th>\n      <td>8</td>\n      <td>6</td>\n      <td>mar</td>\n      <td>fri</td>\n      <td>91.7</td>\n      <td>33.3</td>\n      <td>77.5</td>\n      <td>9.0</td>\n      <td>8.3</td>\n      <td>97</td>\n      <td>4.0</td>\n      <td>0.2</td>\n      <td>0.00</td>\n    </tr>\n    <tr>\n      <th>4</th>\n      <td>8</td>\n      <td>6</td>\n      <td>mar</td>\n      <td>sun</td>\n      <td>89.3</td>\n      <td>51.3</td>\n      <td>102.2</td>\n      <td>9.6</td>\n      <td>11.4</td>\n      <td>99</td>\n      <td>1.8</td>\n      <td>0.0</td>\n      <td>0.00</td>\n    </tr>\n    <tr>\n      <th>...</th>\n      <td>...</td>\n      <td>...</td>\n      <td>...</td>\n      <td>...</td>\n      <td>...</td>\n      <td>...</td>\n      <td>...</td>\n      <td>...</td>\n      <td>...</td>\n      <td>...</td>\n      <td>...</td>\n      <td>...</td>\n      <td>...</td>\n    </tr>\n    <tr>\n      <th>512</th>\n      <td>4</td>\n      <td>3</td>\n      <td>aug</td>\n      <td>sun</td>\n      <td>81.6</td>\n      <td>56.7</td>\n      <td>665.6</td>\n      <td>1.9</td>\n      <td>27.8</td>\n      <td>32</td>\n      <td>2.7</td>\n      <td>0.0</td>\n      <td>6.44</td>\n    </tr>\n    <tr>\n      <th>513</th>\n      <td>2</td>\n      <td>4</td>\n      <td>aug</td>\n      <td>sun</td>\n      <td>81.6</td>\n      <td>56.7</td>\n      <td>665.6</td>\n      <td>1.9</td>\n      <td>21.9</td>\n      <td>71</td>\n      <td>5.8</td>\n      <td>0.0</td>\n      <td>54.29</td>\n    </tr>\n    <tr>\n      <th>514</th>\n      <td>7</td>\n      <td>4</td>\n      <td>aug</td>\n      <td>sun</td>\n      <td>81.6</td>\n      <td>56.7</td>\n      <td>665.6</td>\n      <td>1.9</td>\n      <td>21.2</td>\n      <td>70</td>\n      <td>6.7</td>\n      <td>0.0</td>\n      <td>11.16</td>\n    </tr>\n    <tr>\n      <th>515</th>\n      <td>1</td>\n      <td>4</td>\n      <td>aug</td>\n      <td>sat</td>\n      <td>94.4</td>\n      <td>146.0</td>\n      <td>614.7</td>\n      <td>11.3</td>\n      <td>25.6</td>\n      <td>42</td>\n      <td>4.0</td>\n      <td>0.0</td>\n      <td>0.00</td>\n    </tr>\n    <tr>\n      <th>516</th>\n      <td>6</td>\n      <td>3</td>\n      <td>nov</td>\n      <td>tue</td>\n      <td>79.5</td>\n      <td>3.0</td>\n      <td>106.7</td>\n      <td>1.1</td>\n      <td>11.8</td>\n      <td>31</td>\n      <td>4.5</td>\n      <td>0.0</td>\n      <td>0.00</td>\n    </tr>\n  </tbody>\n</table>\n<p>517 rows × 13 columns</p>\n</div>"
     },
     "execution_count": 82,
     "metadata": {},
     "output_type": "execute_result"
    }
   ],
   "source": [
    "months=[\"jan\",\"feb\",\"mar\",\"apr\",\"may\",\"jun\",\"jul\",\"aug\",\"sep\",\"oct\",\"nov\",\"dec\"]\n",
    "\n",
    "forest['month']=pd.Categorical(forest['month'],categories=months,ordered=True)\n",
    "# forest['day']=pd.Categorical(forest['day'],categories=days,ordered=True)\n",
    "forest"
   ],
   "metadata": {
    "collapsed": false
   }
  },
  {
   "cell_type": "code",
   "execution_count": 83,
   "outputs": [
    {
     "data": {
      "text/plain": "     X  Y month  day  FFMC   DMC     DC  ISI  temp   RH  wind  rain   area\n104  2  4   jan  sat  82.1   3.7    9.3  2.9   5.3   78   3.1   0.0   0.00\n379  4  5   jan  sun  18.7   1.1  171.4  0.0   5.2  100   0.9   0.0   0.00\n96   3  4   feb  sat  83.9   8.0   30.2  2.6  12.7   48   1.8   0.0   0.00\n59   2  2   feb  fri  86.6  13.2   43.0  5.3  12.3   51   0.9   0.0   0.00\n202  7  4   feb  sun  83.9   8.7   32.1  2.1   8.8   68   2.2   0.0  13.05\n..  .. ..   ...  ...   ...   ...    ...  ...   ...  ...   ...   ...    ...\n274  8  6   dec  wed  84.0  27.8  354.6  5.3   5.1   61   8.0   0.0  11.19\n281  6  5   dec  tue  85.4  25.4  349.7  2.6   5.1   24   8.5   0.0  24.77\n273  4  6   dec  sun  84.4  27.2  353.5  6.8   4.8   57   8.5   0.0   8.98\n279  4  4   dec  mon  85.4  25.4  349.7  2.6   4.6   21   8.5   0.0   9.77\n278  4  4   dec  mon  85.4  25.4  349.7  2.6   4.6   21   8.5   0.0  22.03\n\n[517 rows x 13 columns]",
      "text/html": "<div>\n<style scoped>\n    .dataframe tbody tr th:only-of-type {\n        vertical-align: middle;\n    }\n\n    .dataframe tbody tr th {\n        vertical-align: top;\n    }\n\n    .dataframe thead th {\n        text-align: right;\n    }\n</style>\n<table border=\"1\" class=\"dataframe\">\n  <thead>\n    <tr style=\"text-align: right;\">\n      <th></th>\n      <th>X</th>\n      <th>Y</th>\n      <th>month</th>\n      <th>day</th>\n      <th>FFMC</th>\n      <th>DMC</th>\n      <th>DC</th>\n      <th>ISI</th>\n      <th>temp</th>\n      <th>RH</th>\n      <th>wind</th>\n      <th>rain</th>\n      <th>area</th>\n    </tr>\n  </thead>\n  <tbody>\n    <tr>\n      <th>104</th>\n      <td>2</td>\n      <td>4</td>\n      <td>jan</td>\n      <td>sat</td>\n      <td>82.1</td>\n      <td>3.7</td>\n      <td>9.3</td>\n      <td>2.9</td>\n      <td>5.3</td>\n      <td>78</td>\n      <td>3.1</td>\n      <td>0.0</td>\n      <td>0.00</td>\n    </tr>\n    <tr>\n      <th>379</th>\n      <td>4</td>\n      <td>5</td>\n      <td>jan</td>\n      <td>sun</td>\n      <td>18.7</td>\n      <td>1.1</td>\n      <td>171.4</td>\n      <td>0.0</td>\n      <td>5.2</td>\n      <td>100</td>\n      <td>0.9</td>\n      <td>0.0</td>\n      <td>0.00</td>\n    </tr>\n    <tr>\n      <th>96</th>\n      <td>3</td>\n      <td>4</td>\n      <td>feb</td>\n      <td>sat</td>\n      <td>83.9</td>\n      <td>8.0</td>\n      <td>30.2</td>\n      <td>2.6</td>\n      <td>12.7</td>\n      <td>48</td>\n      <td>1.8</td>\n      <td>0.0</td>\n      <td>0.00</td>\n    </tr>\n    <tr>\n      <th>59</th>\n      <td>2</td>\n      <td>2</td>\n      <td>feb</td>\n      <td>fri</td>\n      <td>86.6</td>\n      <td>13.2</td>\n      <td>43.0</td>\n      <td>5.3</td>\n      <td>12.3</td>\n      <td>51</td>\n      <td>0.9</td>\n      <td>0.0</td>\n      <td>0.00</td>\n    </tr>\n    <tr>\n      <th>202</th>\n      <td>7</td>\n      <td>4</td>\n      <td>feb</td>\n      <td>sun</td>\n      <td>83.9</td>\n      <td>8.7</td>\n      <td>32.1</td>\n      <td>2.1</td>\n      <td>8.8</td>\n      <td>68</td>\n      <td>2.2</td>\n      <td>0.0</td>\n      <td>13.05</td>\n    </tr>\n    <tr>\n      <th>...</th>\n      <td>...</td>\n      <td>...</td>\n      <td>...</td>\n      <td>...</td>\n      <td>...</td>\n      <td>...</td>\n      <td>...</td>\n      <td>...</td>\n      <td>...</td>\n      <td>...</td>\n      <td>...</td>\n      <td>...</td>\n      <td>...</td>\n    </tr>\n    <tr>\n      <th>274</th>\n      <td>8</td>\n      <td>6</td>\n      <td>dec</td>\n      <td>wed</td>\n      <td>84.0</td>\n      <td>27.8</td>\n      <td>354.6</td>\n      <td>5.3</td>\n      <td>5.1</td>\n      <td>61</td>\n      <td>8.0</td>\n      <td>0.0</td>\n      <td>11.19</td>\n    </tr>\n    <tr>\n      <th>281</th>\n      <td>6</td>\n      <td>5</td>\n      <td>dec</td>\n      <td>tue</td>\n      <td>85.4</td>\n      <td>25.4</td>\n      <td>349.7</td>\n      <td>2.6</td>\n      <td>5.1</td>\n      <td>24</td>\n      <td>8.5</td>\n      <td>0.0</td>\n      <td>24.77</td>\n    </tr>\n    <tr>\n      <th>273</th>\n      <td>4</td>\n      <td>6</td>\n      <td>dec</td>\n      <td>sun</td>\n      <td>84.4</td>\n      <td>27.2</td>\n      <td>353.5</td>\n      <td>6.8</td>\n      <td>4.8</td>\n      <td>57</td>\n      <td>8.5</td>\n      <td>0.0</td>\n      <td>8.98</td>\n    </tr>\n    <tr>\n      <th>279</th>\n      <td>4</td>\n      <td>4</td>\n      <td>dec</td>\n      <td>mon</td>\n      <td>85.4</td>\n      <td>25.4</td>\n      <td>349.7</td>\n      <td>2.6</td>\n      <td>4.6</td>\n      <td>21</td>\n      <td>8.5</td>\n      <td>0.0</td>\n      <td>9.77</td>\n    </tr>\n    <tr>\n      <th>278</th>\n      <td>4</td>\n      <td>4</td>\n      <td>dec</td>\n      <td>mon</td>\n      <td>85.4</td>\n      <td>25.4</td>\n      <td>349.7</td>\n      <td>2.6</td>\n      <td>4.6</td>\n      <td>21</td>\n      <td>8.5</td>\n      <td>0.0</td>\n      <td>22.03</td>\n    </tr>\n  </tbody>\n</table>\n<p>517 rows × 13 columns</p>\n</div>"
     },
     "execution_count": 83,
     "metadata": {},
     "output_type": "execute_result"
    }
   ],
   "source": [
    "forest.sort_values(by=\"month\",inplace=True)\n",
    "forest"
   ],
   "metadata": {
    "collapsed": false
   }
  },
  {
   "cell_type": "code",
   "execution_count": 84,
   "outputs": [
    {
     "data": {
      "text/plain": "     X  Y month  day  FFMC   DMC     DC  ISI  temp   RH  wind  rain   area\n104  2  4   jan  sat  82.1   3.7    9.3  2.9   5.3   78   3.1   0.0   0.00\n379  4  5   jan  sun  18.7   1.1  171.4  0.0   5.2  100   0.9   0.0   0.00\n96   3  4   feb  sat  83.9   8.0   30.2  2.6  12.7   48   1.8   0.0   0.00\n59   2  2   feb  fri  86.6  13.2   43.0  5.3  12.3   51   0.9   0.0   0.00\n202  7  4   feb  sun  83.9   8.7   32.1  2.1   8.8   68   2.2   0.0  13.05\n..  .. ..   ...  ...   ...   ...    ...  ...   ...  ...   ...   ...    ...\n274  8  6   dec  wed  84.0  27.8  354.6  5.3   5.1   61   8.0   0.0  11.19\n281  6  5   dec  tue  85.4  25.4  349.7  2.6   5.1   24   8.5   0.0  24.77\n273  4  6   dec  sun  84.4  27.2  353.5  6.8   4.8   57   8.5   0.0   8.98\n279  4  4   dec  mon  85.4  25.4  349.7  2.6   4.6   21   8.5   0.0   9.77\n278  4  4   dec  mon  85.4  25.4  349.7  2.6   4.6   21   8.5   0.0  22.03\n\n[517 rows x 13 columns]",
      "text/html": "<div>\n<style scoped>\n    .dataframe tbody tr th:only-of-type {\n        vertical-align: middle;\n    }\n\n    .dataframe tbody tr th {\n        vertical-align: top;\n    }\n\n    .dataframe thead th {\n        text-align: right;\n    }\n</style>\n<table border=\"1\" class=\"dataframe\">\n  <thead>\n    <tr style=\"text-align: right;\">\n      <th></th>\n      <th>X</th>\n      <th>Y</th>\n      <th>month</th>\n      <th>day</th>\n      <th>FFMC</th>\n      <th>DMC</th>\n      <th>DC</th>\n      <th>ISI</th>\n      <th>temp</th>\n      <th>RH</th>\n      <th>wind</th>\n      <th>rain</th>\n      <th>area</th>\n    </tr>\n  </thead>\n  <tbody>\n    <tr>\n      <th>104</th>\n      <td>2</td>\n      <td>4</td>\n      <td>jan</td>\n      <td>sat</td>\n      <td>82.1</td>\n      <td>3.7</td>\n      <td>9.3</td>\n      <td>2.9</td>\n      <td>5.3</td>\n      <td>78</td>\n      <td>3.1</td>\n      <td>0.0</td>\n      <td>0.00</td>\n    </tr>\n    <tr>\n      <th>379</th>\n      <td>4</td>\n      <td>5</td>\n      <td>jan</td>\n      <td>sun</td>\n      <td>18.7</td>\n      <td>1.1</td>\n      <td>171.4</td>\n      <td>0.0</td>\n      <td>5.2</td>\n      <td>100</td>\n      <td>0.9</td>\n      <td>0.0</td>\n      <td>0.00</td>\n    </tr>\n    <tr>\n      <th>96</th>\n      <td>3</td>\n      <td>4</td>\n      <td>feb</td>\n      <td>sat</td>\n      <td>83.9</td>\n      <td>8.0</td>\n      <td>30.2</td>\n      <td>2.6</td>\n      <td>12.7</td>\n      <td>48</td>\n      <td>1.8</td>\n      <td>0.0</td>\n      <td>0.00</td>\n    </tr>\n    <tr>\n      <th>59</th>\n      <td>2</td>\n      <td>2</td>\n      <td>feb</td>\n      <td>fri</td>\n      <td>86.6</td>\n      <td>13.2</td>\n      <td>43.0</td>\n      <td>5.3</td>\n      <td>12.3</td>\n      <td>51</td>\n      <td>0.9</td>\n      <td>0.0</td>\n      <td>0.00</td>\n    </tr>\n    <tr>\n      <th>202</th>\n      <td>7</td>\n      <td>4</td>\n      <td>feb</td>\n      <td>sun</td>\n      <td>83.9</td>\n      <td>8.7</td>\n      <td>32.1</td>\n      <td>2.1</td>\n      <td>8.8</td>\n      <td>68</td>\n      <td>2.2</td>\n      <td>0.0</td>\n      <td>13.05</td>\n    </tr>\n    <tr>\n      <th>...</th>\n      <td>...</td>\n      <td>...</td>\n      <td>...</td>\n      <td>...</td>\n      <td>...</td>\n      <td>...</td>\n      <td>...</td>\n      <td>...</td>\n      <td>...</td>\n      <td>...</td>\n      <td>...</td>\n      <td>...</td>\n      <td>...</td>\n    </tr>\n    <tr>\n      <th>274</th>\n      <td>8</td>\n      <td>6</td>\n      <td>dec</td>\n      <td>wed</td>\n      <td>84.0</td>\n      <td>27.8</td>\n      <td>354.6</td>\n      <td>5.3</td>\n      <td>5.1</td>\n      <td>61</td>\n      <td>8.0</td>\n      <td>0.0</td>\n      <td>11.19</td>\n    </tr>\n    <tr>\n      <th>281</th>\n      <td>6</td>\n      <td>5</td>\n      <td>dec</td>\n      <td>tue</td>\n      <td>85.4</td>\n      <td>25.4</td>\n      <td>349.7</td>\n      <td>2.6</td>\n      <td>5.1</td>\n      <td>24</td>\n      <td>8.5</td>\n      <td>0.0</td>\n      <td>24.77</td>\n    </tr>\n    <tr>\n      <th>273</th>\n      <td>4</td>\n      <td>6</td>\n      <td>dec</td>\n      <td>sun</td>\n      <td>84.4</td>\n      <td>27.2</td>\n      <td>353.5</td>\n      <td>6.8</td>\n      <td>4.8</td>\n      <td>57</td>\n      <td>8.5</td>\n      <td>0.0</td>\n      <td>8.98</td>\n    </tr>\n    <tr>\n      <th>279</th>\n      <td>4</td>\n      <td>4</td>\n      <td>dec</td>\n      <td>mon</td>\n      <td>85.4</td>\n      <td>25.4</td>\n      <td>349.7</td>\n      <td>2.6</td>\n      <td>4.6</td>\n      <td>21</td>\n      <td>8.5</td>\n      <td>0.0</td>\n      <td>9.77</td>\n    </tr>\n    <tr>\n      <th>278</th>\n      <td>4</td>\n      <td>4</td>\n      <td>dec</td>\n      <td>mon</td>\n      <td>85.4</td>\n      <td>25.4</td>\n      <td>349.7</td>\n      <td>2.6</td>\n      <td>4.6</td>\n      <td>21</td>\n      <td>8.5</td>\n      <td>0.0</td>\n      <td>22.03</td>\n    </tr>\n  </tbody>\n</table>\n<p>517 rows × 13 columns</p>\n</div>"
     },
     "execution_count": 84,
     "metadata": {},
     "output_type": "execute_result"
    }
   ],
   "source": [
    "forest"
   ],
   "metadata": {
    "collapsed": false
   }
  },
  {
   "cell_type": "code",
   "execution_count": 85,
   "outputs": [
    {
     "data": {
      "text/plain": "<AxesSubplot: >"
     },
     "execution_count": 85,
     "metadata": {},
     "output_type": "execute_result"
    },
    {
     "data": {
      "text/plain": "<Figure size 640x480 with 1 Axes>",
      "image/png": "[encoded data removed]"
     },
     "metadata": {},
     "output_type": "display_data"
    }
   ],
   "source": [
    "forest[\"month\"].value_counts(normalize=True).sort_index().plot.bar(stacked=True)"
   ],
   "metadata": {
    "collapsed": false
   }
  },
  {
   "cell_type": "markdown",
   "source": [
    "This was done by Prakhar! Do it yourself :) All the best"
   ],
   "metadata": {
    "collapsed": false
   }
  },
  {
   "cell_type": "markdown",
   "source": [
    "***TODO2 (not graded): Do you notice any problem with the stacked bar chart? How do you plan to remedy this problem?***"
   ],
   "metadata": {
    "collapsed": false
   }
  },
  {
   "cell_type": "markdown",
   "source": [
    "***TODO3: Create a scatter plot of the fires with the location(X & Y) as the X and Y axis, and the size of the point indicating the area burnt.***"
   ],
   "metadata": {
    "collapsed": false
   }
  },
  {
   "cell_type": "markdown",
   "source": [
    "***TODO4: Plot the scatter matrix for temp, RH, DC and DMC. How do you interpret the result in terms of correlation among the variables?***"
   ],
   "metadata": {
    "collapsed": false
   }
  },
  {
   "cell_type": "markdown",
   "source": [
    "***TODO5: Does the wind speed affect the spread of wildfire? Use visualization to back up your answer.***"
   ],
   "metadata": {
    "collapsed": false
   }
  },
  {
   "cell_type": "markdown",
   "source": [
    "***Problem 4***"
   ],
   "metadata": {
    "collapsed": false
   }
  },
  {
   "cell_type": "markdown",
   "source": [
    "Dataset: Graduate School Admission\n",
    "This dataset was created for Graduate Admissions prediction.\n",
    "The purpose is to help students with shortlisting target universities according to their profiles. The predicted output gives them a fair idea about their chances of admission for a particular university.\n",
    "Attribute Information:\n",
    "Serial.No.: application number: 1 to 500\n",
    "GRE.Score: GRE score: 290 to 340\n",
    "TOEFL.Score: TOEFL score: 92 to 120\n",
    "University.Rating: undergraduate school’s rating: A to E\n",
    "SOP: Statement of Purpose score: 1 to 5\n",
    "LOR: Letter of Recommendation score: 1 to 5\n",
    "CGPA: Undergraduate GPA: 6.8 to 9.92\n",
    "Research: Research experience: Yes or No\n",
    "Chance.of.Admit: Chance of getting admitted: 0.34 to 0.97"
   ],
   "metadata": {
    "collapsed": false
   }
  },
  {
   "cell_type": "markdown",
   "source": [
    "**TODO1:** Is LOR score related to CGPA? Use visualization to back up your answer. **Hint:** Use the visualization that is used to compare 2 numerical variables"
   ],
   "metadata": {
    "collapsed": false
   }
  },
  {
   "cell_type": "code",
   "execution_count": 1,
   "outputs": [],
   "source": [
    "import pandas as pd\n",
    "import numpy as np\n",
    "import matplotlib.pyplot as plt\n",
    "import seaborn as sns"
   ],
   "metadata": {
    "collapsed": false
   }
  },
  {
   "cell_type": "code",
   "execution_count": 7,
   "outputs": [],
   "source": [
    "grad_admission = pd.read_csv('Admission_Predict.csv')"
   ],
   "metadata": {
    "collapsed": false
   }
  },
  {
   "cell_type": "code",
   "execution_count": 9,
   "outputs": [
    {
     "data": {
      "text/plain": "       Serial No.  GRE Score  TOEFL Score  University Rating     SOP    LOR   \\\ncount      400.00     400.00       400.00             400.00  400.00  400.00   \nmean       200.50     316.81       107.41               3.09    3.40    3.45   \nstd        115.61      11.47         6.07               1.14    1.01    0.90   \nmin          1.00     290.00        92.00               1.00    1.00    1.00   \n25%        100.75     308.00       103.00               2.00    2.50    3.00   \n50%        200.50     317.00       107.00               3.00    3.50    3.50   \n75%        300.25     325.00       112.00               4.00    4.00    4.00   \nmax        400.00     340.00       120.00               5.00    5.00    5.00   \n\n         CGPA  Chance of Admit   \ncount  400.00            400.00  \nmean     8.60              0.72  \nstd      0.60              0.14  \nmin      6.80              0.34  \n25%      8.17              0.64  \n50%      8.61              0.73  \n75%      9.06              0.83  \nmax      9.92              0.97  ",
      "text/html": "<div>\n<style scoped>\n    .dataframe tbody tr th:only-of-type {\n        vertical-align: middle;\n    }\n\n    .dataframe tbody tr th {\n        vertical-align: top;\n    }\n\n    .dataframe thead th {\n        text-align: right;\n    }\n</style>\n<table border=\"1\" class=\"dataframe\">\n  <thead>\n    <tr style=\"text-align: right;\">\n      <th></th>\n      <th>Serial No.</th>\n      <th>GRE Score</th>\n      <th>TOEFL Score</th>\n      <th>University Rating</th>\n      <th>SOP</th>\n      <th>LOR</th>\n      <th>CGPA</th>\n      <th>Chance of Admit</th>\n    </tr>\n  </thead>\n  <tbody>\n    <tr>\n      <th>count</th>\n      <td>400.00</td>\n      <td>400.00</td>\n      <td>400.00</td>\n      <td>400.00</td>\n      <td>400.00</td>\n      <td>400.00</td>\n      <td>400.00</td>\n      <td>400.00</td>\n    </tr>\n    <tr>\n      <th>mean</th>\n      <td>200.50</td>\n      <td>316.81</td>\n      <td>107.41</td>\n      <td>3.09</td>\n      <td>3.40</td>\n      <td>3.45</td>\n      <td>8.60</td>\n      <td>0.72</td>\n    </tr>\n    <tr>\n      <th>std</th>\n      <td>115.61</td>\n      <td>11.47</td>\n      <td>6.07</td>\n      <td>1.14</td>\n      <td>1.01</td>\n      <td>0.90</td>\n      <td>0.60</td>\n      <td>0.14</td>\n    </tr>\n    <tr>\n      <th>min</th>\n      <td>1.00</td>\n      <td>290.00</td>\n      <td>92.00</td>\n      <td>1.00</td>\n      <td>1.00</td>\n      <td>1.00</td>\n      <td>6.80</td>\n      <td>0.34</td>\n    </tr>\n    <tr>\n      <th>25%</th>\n      <td>100.75</td>\n      <td>308.00</td>\n      <td>103.00</td>\n      <td>2.00</td>\n      <td>2.50</td>\n      <td>3.00</td>\n      <td>8.17</td>\n      <td>0.64</td>\n    </tr>\n    <tr>\n      <th>50%</th>\n      <td>200.50</td>\n      <td>317.00</td>\n      <td>107.00</td>\n      <td>3.00</td>\n      <td>3.50</td>\n      <td>3.50</td>\n      <td>8.61</td>\n      <td>0.73</td>\n    </tr>\n    <tr>\n      <th>75%</th>\n      <td>300.25</td>\n      <td>325.00</td>\n      <td>112.00</td>\n      <td>4.00</td>\n      <td>4.00</td>\n      <td>4.00</td>\n      <td>9.06</td>\n      <td>0.83</td>\n    </tr>\n    <tr>\n      <th>max</th>\n      <td>400.00</td>\n      <td>340.00</td>\n      <td>120.00</td>\n      <td>5.00</td>\n      <td>5.00</td>\n      <td>5.00</td>\n      <td>9.92</td>\n      <td>0.97</td>\n    </tr>\n  </tbody>\n</table>\n</div>"
     },
     "execution_count": 9,
     "metadata": {},
     "output_type": "execute_result"
    }
   ],
   "source": [
    "grad_admission.describe().round(decimals=2)\n",
    "# There are 400 rows. The average GRE score is 316. Scores are going as low as 290. With some student scoring 340 as well. Same is the case with TOEFL. University ratings range from 1 to 5. We don't have any student with a perfect 10.0 CGPA"
   ],
   "metadata": {
    "collapsed": false
   }
  },
  {
   "cell_type": "code",
   "execution_count": 10,
   "outputs": [
    {
     "data": {
      "text/plain": "   serial_no.  gre_score  toefl_score  university_rating  sop  lor  cgpa  \\\n0           1        337          118                  4  4.5  4.5  9.65   \n1           2        324          107                  4  4.0  4.5  8.87   \n2           3        316          104                  3  3.0  3.5  8.00   \n3           4        322          110                  3  3.5  2.5  8.67   \n4           5        314          103                  2  2.0  3.0  8.21   \n5           6        330          115                  5  4.5  3.0  9.34   \n6           7        321          109                  3  3.0  4.0  8.20   \n7           8        308          101                  2  3.0  4.0  7.90   \n8           9        302          102                  1  2.0  1.5  8.00   \n9          10        323          108                  3  3.5  3.0  8.60   \n\n  research  chance_of_admit  \n0      yes             0.92  \n1      yes             0.76  \n2      yes             0.72  \n3      yes             0.80  \n4       no             0.65  \n5      yes             0.90  \n6      yes             0.75  \n7       no             0.68  \n8       no             0.50  \n9       no             0.45  ",
      "text/html": "<div>\n<style scoped>\n    .dataframe tbody tr th:only-of-type {\n        vertical-align: middle;\n    }\n\n    .dataframe tbody tr th {\n        vertical-align: top;\n    }\n\n    .dataframe thead th {\n        text-align: right;\n    }\n</style>\n<table border=\"1\" class=\"dataframe\">\n  <thead>\n    <tr style=\"text-align: right;\">\n      <th></th>\n      <th>serial_no.</th>\n      <th>gre_score</th>\n      <th>toefl_score</th>\n      <th>university_rating</th>\n      <th>sop</th>\n      <th>lor</th>\n      <th>cgpa</th>\n      <th>research</th>\n      <th>chance_of_admit</th>\n    </tr>\n  </thead>\n  <tbody>\n    <tr>\n      <th>0</th>\n      <td>1</td>\n      <td>337</td>\n      <td>118</td>\n      <td>4</td>\n      <td>4.5</td>\n      <td>4.5</td>\n      <td>9.65</td>\n      <td>yes</td>\n      <td>0.92</td>\n    </tr>\n    <tr>\n      <th>1</th>\n      <td>2</td>\n      <td>324</td>\n      <td>107</td>\n      <td>4</td>\n      <td>4.0</td>\n      <td>4.5</td>\n      <td>8.87</td>\n      <td>yes</td>\n      <td>0.76</td>\n    </tr>\n    <tr>\n      <th>2</th>\n      <td>3</td>\n      <td>316</td>\n      <td>104</td>\n      <td>3</td>\n      <td>3.0</td>\n      <td>3.5</td>\n      <td>8.00</td>\n      <td>yes</td>\n      <td>0.72</td>\n    </tr>\n    <tr>\n      <th>3</th>\n      <td>4</td>\n      <td>322</td>\n      <td>110</td>\n      <td>3</td>\n      <td>3.5</td>\n      <td>2.5</td>\n      <td>8.67</td>\n      <td>yes</td>\n      <td>0.80</td>\n    </tr>\n    <tr>\n      <th>4</th>\n      <td>5</td>\n      <td>314</td>\n      <td>103</td>\n      <td>2</td>\n      <td>2.0</td>\n      <td>3.0</td>\n      <td>8.21</td>\n      <td>no</td>\n      <td>0.65</td>\n    </tr>\n    <tr>\n      <th>5</th>\n      <td>6</td>\n      <td>330</td>\n      <td>115</td>\n      <td>5</td>\n      <td>4.5</td>\n      <td>3.0</td>\n      <td>9.34</td>\n      <td>yes</td>\n      <td>0.90</td>\n    </tr>\n    <tr>\n      <th>6</th>\n      <td>7</td>\n      <td>321</td>\n      <td>109</td>\n      <td>3</td>\n      <td>3.0</td>\n      <td>4.0</td>\n      <td>8.20</td>\n      <td>yes</td>\n      <td>0.75</td>\n    </tr>\n    <tr>\n      <th>7</th>\n      <td>8</td>\n      <td>308</td>\n      <td>101</td>\n      <td>2</td>\n      <td>3.0</td>\n      <td>4.0</td>\n      <td>7.90</td>\n      <td>no</td>\n      <td>0.68</td>\n    </tr>\n    <tr>\n      <th>8</th>\n      <td>9</td>\n      <td>302</td>\n      <td>102</td>\n      <td>1</td>\n      <td>2.0</td>\n      <td>1.5</td>\n      <td>8.00</td>\n      <td>no</td>\n      <td>0.50</td>\n    </tr>\n    <tr>\n      <th>9</th>\n      <td>10</td>\n      <td>323</td>\n      <td>108</td>\n      <td>3</td>\n      <td>3.5</td>\n      <td>3.0</td>\n      <td>8.60</td>\n      <td>no</td>\n      <td>0.45</td>\n    </tr>\n  </tbody>\n</table>\n</div>"
     },
     "execution_count": 10,
     "metadata": {},
     "output_type": "execute_result"
    }
   ],
   "source": [
    "grad_admission.columns = [h.strip().replace(' ','_') for h in grad_admission.columns]\n",
    "grad_admission = grad_admission.rename(str.lower,axis=1)\n",
    "grad_admission.head(10)"
   ],
   "metadata": {
    "collapsed": false
   }
  },
  {
   "cell_type": "code",
   "execution_count": 11,
   "outputs": [
    {
     "data": {
      "text/plain": "<AxesSubplot: xlabel='lor', ylabel='cgpa'>"
     },
     "execution_count": 11,
     "metadata": {},
     "output_type": "execute_result"
    },
    {
     "data": {
      "text/plain": "<Figure size 640x480 with 1 Axes>",
      "image/png": "[encoded data removed]"
     },
     "metadata": {},
     "output_type": "display_data"
    }
   ],
   "source": [
    "# we have to find if the LOR score and the CGPA have any correlation.\n",
    "sns.scatterplot(x=grad_admission.lor,y=grad_admission.cgpa)"
   ],
   "metadata": {
    "collapsed": false
   }
  },
  {
   "cell_type": "code",
   "execution_count": 15,
   "outputs": [
    {
     "name": "stderr",
     "output_type": "stream",
     "text": [
      "/var/folders/kd/vczjh0f55158sc6lflbyfd4w0000gn/T/ipykernel_30030/1618240344.py:2: FutureWarning: The default value of numeric_only in DataFrame.corr is deprecated. In a future version, it will default to False. Select only valid columns or specify the value of numeric_only to silence this warning.\n",
      "  sns.heatmap(grad_admission.corr().abs(),annot=True)\n"
     ]
    },
    {
     "data": {
      "text/plain": "<AxesSubplot: >"
     },
     "execution_count": 15,
     "metadata": {},
     "output_type": "execute_result"
    },
    {
     "data": {
      "text/plain": "<Figure size 800x800 with 2 Axes>",
      "image/png": "[encoded data removed]"
     },
     "metadata": {},
     "output_type": "display_data"
    }
   ],
   "source": [
    "plt.figure(figsize=(8,8))\n",
    "sns.heatmap(grad_admission.corr().abs(),annot=True)"
   ],
   "metadata": {
    "collapsed": false
   }
  },
  {
   "cell_type": "markdown",
   "source": [
    "LOR and CGPA are moderately related. There is a relation between them but it is not very strong. A good student with a good CGPA will moderate chances of a good LOR."
   ],
   "metadata": {
    "collapsed": false
   }
  },
  {
   "cell_type": "markdown",
   "source": [
    "**TODO2:**\n",
    "*   Create a scatterplot of CGPA and GRE. Use color to indicate research experience. Interpret the plot.\n",
    "*   Create a scatterplot of University.Rating vs Research. Why is the plot not useful? Pick an appropriate chart type to reveal the relationship between University.Rating and Research."
   ],
   "metadata": {
    "collapsed": false
   }
  },
  {
   "cell_type": "code",
   "execution_count": 86,
   "outputs": [],
   "source": [],
   "metadata": {
    "collapsed": false
   }
  },
  {
   "cell_type": "markdown",
   "source": [
    "**TODO3:** Plot a pie chart of University Rating. The pie chart should also present the percentage of each slice. Explain your findings. *(Make sure you show data labels)*\n",
    "**Hint:** [Build a pie chart with Matplotlib](https://matplotlib.org/3.1.1/gallery/pie_and_polar_charts/pie_features.html)\n",
    "[Build a pie chart with Pandas](https://pandas.pydata.org/pandas-docs/stable/reference/api/pandas.DataFrame.plot.pie.html)"
   ],
   "metadata": {
    "collapsed": false
   }
  },
  {
   "cell_type": "code",
   "execution_count": 86,
   "outputs": [],
   "source": [],
   "metadata": {
    "collapsed": false
   }
  },
  {
   "cell_type": "markdown",
   "source": [
    "**TODO4:** What other insights can you draw from this dataset? Present one finding with visualization.\n"
   ],
   "metadata": {
    "collapsed": false
   }
  },
  {
   "cell_type": "code",
   "execution_count": 86,
   "outputs": [],
   "source": [],
   "metadata": {
    "collapsed": false
   }
  }
 ],
 "metadata": {
  "kernelspec": {
   "display_name": "Python 3",
   "language": "python",
   "name": "python3"
  },
  "language_info": {
   "codemirror_mode": {
    "name": "ipython",
    "version": 2
   },
   "file_extension": ".py",
   "mimetype": "text/x-python",
   "name": "python",
   "nbconvert_exporter": "python",
   "pygments_lexer": "ipython2",
   "version": "2.7.6"
  }
 },
 "nbformat": 4,
 "nbformat_minor": 1
}
